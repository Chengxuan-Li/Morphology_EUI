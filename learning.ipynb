{
 "cells": [
  {
   "cell_type": "code",
   "execution_count": 12,
   "metadata": {},
   "outputs": [
    {
     "name": "stderr",
     "output_type": "stream",
     "text": [
      "C:\\Users\\liche\\anaconda3\\lib\\site-packages\\geopandas\\_compat.py:124: UserWarning: The Shapely GEOS version (3.11.2-CAPI-1.17.2) is incompatible with the GEOS version PyGEOS was compiled with (3.10.4-CAPI-1.16.2). Conversions between both will be slow.\n",
      "  warnings.warn(\n",
      "<ipython-input-12-5d0e6c2d292a>:6: DeprecationWarning: Shapely 2.0 is installed, but because PyGEOS is also installed, GeoPandas still uses PyGEOS by default. However, starting with version 0.14, the default will switch to Shapely. To force to use Shapely 2.0 now, you can either uninstall PyGEOS or set the environment variable USE_PYGEOS=0. You can do this before starting the Python process, or in your code before importing geopandas:\n",
      "\n",
      "import os\n",
      "os.environ['USE_PYGEOS'] = '0'\n",
      "import geopandas\n",
      "\n",
      "In the next release, GeoPandas will switch to using Shapely by default, even if PyGEOS is installed. If you only have PyGEOS installed to get speed-ups, this switch should be smooth. However, if you are using PyGEOS directly (calling PyGEOS functions on geometries from GeoPandas), this will then stop working and you are encouraged to migrate from PyGEOS to Shapely 2.0 (https://shapely.readthedocs.io/en/latest/migration_pygeos.html).\n",
      "  import geopandas as gpd\n"
     ]
    }
   ],
   "source": [
    "import numpy as np\n",
    "from sklearn.decomposition import PCA\n",
    "import pandas as pd\n",
    "import warnings\n",
    "\n",
    "import geopandas as gpd\n",
    "import libpysal\n",
    "import mapclassify\n",
    "import matplotlib.pyplot as plt\n",
    "import momepy as mm\n",
    "\n",
    "import scipy as sp\n",
    "import seaborn as sns\n",
    "\n",
    "from tqdm.auto import tqdm\n",
    "from sklearn import preprocessing\n",
    "from sklearn.mixture import GaussianMixture\n",
    "from scipy.cluster import hierarchy"
   ]
  },
  {
   "cell_type": "code",
   "execution_count": 34,
   "metadata": {},
   "outputs": [],
   "source": [
    "data = pd.read_csv(\"files/attr/raw_dataset.csv\")"
   ]
  },
  {
   "cell_type": "code",
   "execution_count": 35,
   "metadata": {},
   "outputs": [
    {
     "data": {
      "text/plain": [
       "Index(['Unnamed: 0', 'property_area', 'building_area', 'height',\n",
       "       'TotalFloor_sum', 'floor_area', 'sdbAre', 'sdbVol', 'sdbPer', 'sdbCoA',\n",
       "       'ssbFoF', 'ssbVFR', 'ssbCCo', 'ssbCor', 'ssbSqu', 'ssbERI', 'ssbElo',\n",
       "       'ssbCCM', 'ssbCCD', 'stbOri', 'stbCeA', 'mtbSWR', 'mtbAli', 'mtbNDi',\n",
       "       'libNCo', 'ldbPWL', 'ltcBuA', 'stbSAl', 'stcOri', 'sdcLAL', 'sdcAre',\n",
       "       'sscCCo', 'sscERI', 'mtcWNe', 'mdcAre', 'licGDe', 'ltcWRB', 'sicCAR',\n",
       "       'sicFAR', 'stcSAl', 'ldkAre', 'ldkPer', 'lskCCo', 'lskERI', 'lskCWA',\n",
       "       'ltkOri', 'ltkWNB', 'likWBB', 'sdsLen', 'sdsSPW', 'sdsSPH', 'sdsSPR',\n",
       "       'sdsSPO', 'sdsSWD', 'sdsSHD', 'sdsAre', 'sisBpM', 'misRea', 'mdsAre',\n",
       "       'mm_len', 'cdsbool', 'node_start', 'node_end', 'ldsMSL', 'ldsRea',\n",
       "       'mtdDeg', 'lcdMes', 'linP3W', 'linP4W', 'linPDE', 'lcnClo', 'ldsCDL',\n",
       "       'xcnSCl', 'mtdMDi', 'lddNDe', 'linWID', 'lddRea', 'lddARe', 'sddAre',\n",
       "       'midRea', 'midAre', 'EUI'],\n",
       "      dtype='object')"
      ]
     },
     "execution_count": 35,
     "metadata": {},
     "output_type": "execute_result"
    }
   ],
   "source": [
    "data.columns"
   ]
  },
  {
   "cell_type": "code",
   "execution_count": 37,
   "metadata": {},
   "outputs": [],
   "source": [
    "pa = data.drop(columns=\n",
    "              [\"Unnamed: 0\"]\n",
    "              )"
   ]
  },
  {
   "cell_type": "code",
   "execution_count": 38,
   "metadata": {},
   "outputs": [
    {
     "data": {
      "text/html": [
       "<div>\n",
       "<style scoped>\n",
       "    .dataframe tbody tr th:only-of-type {\n",
       "        vertical-align: middle;\n",
       "    }\n",
       "\n",
       "    .dataframe tbody tr th {\n",
       "        vertical-align: top;\n",
       "    }\n",
       "\n",
       "    .dataframe thead th {\n",
       "        text-align: right;\n",
       "    }\n",
       "</style>\n",
       "<table border=\"1\" class=\"dataframe\">\n",
       "  <thead>\n",
       "    <tr style=\"text-align: right;\">\n",
       "      <th></th>\n",
       "      <th>property_area</th>\n",
       "      <th>building_area</th>\n",
       "      <th>height</th>\n",
       "      <th>TotalFloor_sum</th>\n",
       "      <th>floor_area</th>\n",
       "      <th>sdbAre</th>\n",
       "      <th>sdbVol</th>\n",
       "      <th>sdbPer</th>\n",
       "      <th>sdbCoA</th>\n",
       "      <th>ssbFoF</th>\n",
       "      <th>...</th>\n",
       "      <th>xcnSCl</th>\n",
       "      <th>mtdMDi</th>\n",
       "      <th>lddNDe</th>\n",
       "      <th>linWID</th>\n",
       "      <th>lddRea</th>\n",
       "      <th>lddARe</th>\n",
       "      <th>sddAre</th>\n",
       "      <th>midRea</th>\n",
       "      <th>midAre</th>\n",
       "      <th>EUI</th>\n",
       "    </tr>\n",
       "  </thead>\n",
       "  <tbody>\n",
       "    <tr>\n",
       "      <th>0</th>\n",
       "      <td>38.0</td>\n",
       "      <td>2107.8</td>\n",
       "      <td>11.6</td>\n",
       "      <td>410.77</td>\n",
       "      <td>125.881046</td>\n",
       "      <td>37.981350</td>\n",
       "      <td>440.583660</td>\n",
       "      <td>25.288062</td>\n",
       "      <td>0.0</td>\n",
       "      <td>5.722237</td>\n",
       "      <td>...</td>\n",
       "      <td>0.000000</td>\n",
       "      <td>131.965738</td>\n",
       "      <td>0.007578</td>\n",
       "      <td>0.007578</td>\n",
       "      <td>53</td>\n",
       "      <td>1.886736e+04</td>\n",
       "      <td>12365.609653</td>\n",
       "      <td>53</td>\n",
       "      <td>18867.364812</td>\n",
       "      <td>141.506196</td>\n",
       "    </tr>\n",
       "    <tr>\n",
       "      <th>1</th>\n",
       "      <td>38.3</td>\n",
       "      <td>157.4</td>\n",
       "      <td>9.6</td>\n",
       "      <td>235.45</td>\n",
       "      <td>104.998629</td>\n",
       "      <td>38.280750</td>\n",
       "      <td>367.495200</td>\n",
       "      <td>24.914262</td>\n",
       "      <td>0.0</td>\n",
       "      <td>5.407904</td>\n",
       "      <td>...</td>\n",
       "      <td>0.000000</td>\n",
       "      <td>41.767837</td>\n",
       "      <td>0.029615</td>\n",
       "      <td>0.009872</td>\n",
       "      <td>32</td>\n",
       "      <td>1.197997e+05</td>\n",
       "      <td>21970.262130</td>\n",
       "      <td>25</td>\n",
       "      <td>21970.262130</td>\n",
       "      <td>132.684859</td>\n",
       "    </tr>\n",
       "    <tr>\n",
       "      <th>2</th>\n",
       "      <td>40.6</td>\n",
       "      <td>40.6</td>\n",
       "      <td>9.6</td>\n",
       "      <td>113.00</td>\n",
       "      <td>111.268389</td>\n",
       "      <td>40.566600</td>\n",
       "      <td>389.439360</td>\n",
       "      <td>26.082406</td>\n",
       "      <td>0.0</td>\n",
       "      <td>5.455945</td>\n",
       "      <td>...</td>\n",
       "      <td>0.000000</td>\n",
       "      <td>29.338681</td>\n",
       "      <td>0.012960</td>\n",
       "      <td>0.011108</td>\n",
       "      <td>208</td>\n",
       "      <td>9.430136e+04</td>\n",
       "      <td>50535.247414</td>\n",
       "      <td>72</td>\n",
       "      <td>62273.747216</td>\n",
       "      <td>94.000000</td>\n",
       "    </tr>\n",
       "    <tr>\n",
       "      <th>3</th>\n",
       "      <td>37.7</td>\n",
       "      <td>184.0</td>\n",
       "      <td>9.1</td>\n",
       "      <td>268.00</td>\n",
       "      <td>98.099040</td>\n",
       "      <td>37.730400</td>\n",
       "      <td>343.346640</td>\n",
       "      <td>25.078541</td>\n",
       "      <td>0.0</td>\n",
       "      <td>5.423798</td>\n",
       "      <td>...</td>\n",
       "      <td>0.000000</td>\n",
       "      <td>774.410955</td>\n",
       "      <td>0.003962</td>\n",
       "      <td>0.006509</td>\n",
       "      <td>132</td>\n",
       "      <td>7.640135e+04</td>\n",
       "      <td>35153.408587</td>\n",
       "      <td>70</td>\n",
       "      <td>38779.991458</td>\n",
       "      <td>107.246269</td>\n",
       "    </tr>\n",
       "    <tr>\n",
       "      <th>4</th>\n",
       "      <td>49.8</td>\n",
       "      <td>407.8</td>\n",
       "      <td>13.1</td>\n",
       "      <td>473.88</td>\n",
       "      <td>186.286117</td>\n",
       "      <td>49.771100</td>\n",
       "      <td>652.001410</td>\n",
       "      <td>28.454579</td>\n",
       "      <td>0.0</td>\n",
       "      <td>5.619373</td>\n",
       "      <td>...</td>\n",
       "      <td>0.000000</td>\n",
       "      <td>91.579304</td>\n",
       "      <td>0.010428</td>\n",
       "      <td>0.015642</td>\n",
       "      <td>39</td>\n",
       "      <td>3.840424e+04</td>\n",
       "      <td>10601.595086</td>\n",
       "      <td>28</td>\n",
       "      <td>11926.666581</td>\n",
       "      <td>141.577699</td>\n",
       "    </tr>\n",
       "    <tr>\n",
       "      <th>...</th>\n",
       "      <td>...</td>\n",
       "      <td>...</td>\n",
       "      <td>...</td>\n",
       "      <td>...</td>\n",
       "      <td>...</td>\n",
       "      <td>...</td>\n",
       "      <td>...</td>\n",
       "      <td>...</td>\n",
       "      <td>...</td>\n",
       "      <td>...</td>\n",
       "      <td>...</td>\n",
       "      <td>...</td>\n",
       "      <td>...</td>\n",
       "      <td>...</td>\n",
       "      <td>...</td>\n",
       "      <td>...</td>\n",
       "      <td>...</td>\n",
       "      <td>...</td>\n",
       "      <td>...</td>\n",
       "      <td>...</td>\n",
       "      <td>...</td>\n",
       "    </tr>\n",
       "    <tr>\n",
       "      <th>13005</th>\n",
       "      <td>283.7</td>\n",
       "      <td>3166.3</td>\n",
       "      <td>17.1</td>\n",
       "      <td>813.00</td>\n",
       "      <td>1386.314344</td>\n",
       "      <td>283.748550</td>\n",
       "      <td>4852.100205</td>\n",
       "      <td>81.674782</td>\n",
       "      <td>0.0</td>\n",
       "      <td>5.863040</td>\n",
       "      <td>...</td>\n",
       "      <td>0.033333</td>\n",
       "      <td>82.756248</td>\n",
       "      <td>0.002225</td>\n",
       "      <td>0.007929</td>\n",
       "      <td>927</td>\n",
       "      <td>1.013224e+06</td>\n",
       "      <td>154047.180780</td>\n",
       "      <td>410</td>\n",
       "      <td>433135.858556</td>\n",
       "      <td>277.328413</td>\n",
       "    </tr>\n",
       "    <tr>\n",
       "      <th>13006</th>\n",
       "      <td>141.0</td>\n",
       "      <td>362.0</td>\n",
       "      <td>3.0</td>\n",
       "      <td>121.00</td>\n",
       "      <td>120.829800</td>\n",
       "      <td>140.968100</td>\n",
       "      <td>422.904300</td>\n",
       "      <td>59.120385</td>\n",
       "      <td>0.0</td>\n",
       "      <td>5.650000</td>\n",
       "      <td>...</td>\n",
       "      <td>0.000000</td>\n",
       "      <td>62.838853</td>\n",
       "      <td>0.031827</td>\n",
       "      <td>0.000000</td>\n",
       "      <td>55</td>\n",
       "      <td>5.995301e+04</td>\n",
       "      <td>59953.012016</td>\n",
       "      <td>55</td>\n",
       "      <td>59953.012016</td>\n",
       "      <td>54.743802</td>\n",
       "    </tr>\n",
       "    <tr>\n",
       "      <th>13007</th>\n",
       "      <td>47.1</td>\n",
       "      <td>47.1</td>\n",
       "      <td>10.5</td>\n",
       "      <td>76.00</td>\n",
       "      <td>141.320100</td>\n",
       "      <td>47.106700</td>\n",
       "      <td>494.620350</td>\n",
       "      <td>29.290903</td>\n",
       "      <td>0.0</td>\n",
       "      <td>5.670643</td>\n",
       "      <td>...</td>\n",
       "      <td>0.000000</td>\n",
       "      <td>42.721634</td>\n",
       "      <td>0.046815</td>\n",
       "      <td>0.000000</td>\n",
       "      <td>9</td>\n",
       "      <td>5.960348e+03</td>\n",
       "      <td>5960.347690</td>\n",
       "      <td>9</td>\n",
       "      <td>5960.347690</td>\n",
       "      <td>58.000000</td>\n",
       "    </tr>\n",
       "    <tr>\n",
       "      <th>13008</th>\n",
       "      <td>97.5</td>\n",
       "      <td>823.4</td>\n",
       "      <td>10.7</td>\n",
       "      <td>78.60</td>\n",
       "      <td>298.046027</td>\n",
       "      <td>97.491691</td>\n",
       "      <td>1043.161095</td>\n",
       "      <td>50.313069</td>\n",
       "      <td>0.0</td>\n",
       "      <td>6.181796</td>\n",
       "      <td>...</td>\n",
       "      <td>0.000000</td>\n",
       "      <td>57.946480</td>\n",
       "      <td>0.034515</td>\n",
       "      <td>0.000000</td>\n",
       "      <td>203</td>\n",
       "      <td>7.665604e+04</td>\n",
       "      <td>19179.938328</td>\n",
       "      <td>203</td>\n",
       "      <td>76656.037279</td>\n",
       "      <td>334.000000</td>\n",
       "    </tr>\n",
       "    <tr>\n",
       "      <th>13009</th>\n",
       "      <td>834.3</td>\n",
       "      <td>6025.3</td>\n",
       "      <td>15.7</td>\n",
       "      <td>1944.40</td>\n",
       "      <td>3742.456540</td>\n",
       "      <td>834.305598</td>\n",
       "      <td>13098.597889</td>\n",
       "      <td>143.672640</td>\n",
       "      <td>0.0</td>\n",
       "      <td>5.560799</td>\n",
       "      <td>...</td>\n",
       "      <td>0.181818</td>\n",
       "      <td>133.797007</td>\n",
       "      <td>0.010243</td>\n",
       "      <td>0.026073</td>\n",
       "      <td>58</td>\n",
       "      <td>5.436275e+04</td>\n",
       "      <td>20097.510932</td>\n",
       "      <td>61</td>\n",
       "      <td>47879.291836</td>\n",
       "      <td>208.039863</td>\n",
       "    </tr>\n",
       "  </tbody>\n",
       "</table>\n",
       "<p>13010 rows × 81 columns</p>\n",
       "</div>"
      ],
      "text/plain": [
       "       property_area  building_area  height  TotalFloor_sum   floor_area  \\\n",
       "0               38.0         2107.8    11.6          410.77   125.881046   \n",
       "1               38.3          157.4     9.6          235.45   104.998629   \n",
       "2               40.6           40.6     9.6          113.00   111.268389   \n",
       "3               37.7          184.0     9.1          268.00    98.099040   \n",
       "4               49.8          407.8    13.1          473.88   186.286117   \n",
       "...              ...            ...     ...             ...          ...   \n",
       "13005          283.7         3166.3    17.1          813.00  1386.314344   \n",
       "13006          141.0          362.0     3.0          121.00   120.829800   \n",
       "13007           47.1           47.1    10.5           76.00   141.320100   \n",
       "13008           97.5          823.4    10.7           78.60   298.046027   \n",
       "13009          834.3         6025.3    15.7         1944.40  3742.456540   \n",
       "\n",
       "           sdbAre        sdbVol      sdbPer  sdbCoA    ssbFoF  ...    xcnSCl  \\\n",
       "0       37.981350    440.583660   25.288062     0.0  5.722237  ...  0.000000   \n",
       "1       38.280750    367.495200   24.914262     0.0  5.407904  ...  0.000000   \n",
       "2       40.566600    389.439360   26.082406     0.0  5.455945  ...  0.000000   \n",
       "3       37.730400    343.346640   25.078541     0.0  5.423798  ...  0.000000   \n",
       "4       49.771100    652.001410   28.454579     0.0  5.619373  ...  0.000000   \n",
       "...           ...           ...         ...     ...       ...  ...       ...   \n",
       "13005  283.748550   4852.100205   81.674782     0.0  5.863040  ...  0.033333   \n",
       "13006  140.968100    422.904300   59.120385     0.0  5.650000  ...  0.000000   \n",
       "13007   47.106700    494.620350   29.290903     0.0  5.670643  ...  0.000000   \n",
       "13008   97.491691   1043.161095   50.313069     0.0  6.181796  ...  0.000000   \n",
       "13009  834.305598  13098.597889  143.672640     0.0  5.560799  ...  0.181818   \n",
       "\n",
       "           mtdMDi    lddNDe    linWID  lddRea        lddARe         sddAre  \\\n",
       "0      131.965738  0.007578  0.007578      53  1.886736e+04   12365.609653   \n",
       "1       41.767837  0.029615  0.009872      32  1.197997e+05   21970.262130   \n",
       "2       29.338681  0.012960  0.011108     208  9.430136e+04   50535.247414   \n",
       "3      774.410955  0.003962  0.006509     132  7.640135e+04   35153.408587   \n",
       "4       91.579304  0.010428  0.015642      39  3.840424e+04   10601.595086   \n",
       "...           ...       ...       ...     ...           ...            ...   \n",
       "13005   82.756248  0.002225  0.007929     927  1.013224e+06  154047.180780   \n",
       "13006   62.838853  0.031827  0.000000      55  5.995301e+04   59953.012016   \n",
       "13007   42.721634  0.046815  0.000000       9  5.960348e+03    5960.347690   \n",
       "13008   57.946480  0.034515  0.000000     203  7.665604e+04   19179.938328   \n",
       "13009  133.797007  0.010243  0.026073      58  5.436275e+04   20097.510932   \n",
       "\n",
       "       midRea         midAre         EUI  \n",
       "0          53   18867.364812  141.506196  \n",
       "1          25   21970.262130  132.684859  \n",
       "2          72   62273.747216   94.000000  \n",
       "3          70   38779.991458  107.246269  \n",
       "4          28   11926.666581  141.577699  \n",
       "...       ...            ...         ...  \n",
       "13005     410  433135.858556  277.328413  \n",
       "13006      55   59953.012016   54.743802  \n",
       "13007       9    5960.347690   58.000000  \n",
       "13008     203   76656.037279  334.000000  \n",
       "13009      61   47879.291836  208.039863  \n",
       "\n",
       "[13010 rows x 81 columns]"
      ]
     },
     "execution_count": 38,
     "metadata": {},
     "output_type": "execute_result"
    }
   ],
   "source": [
    "pa"
   ]
  },
  {
   "cell_type": "code",
   "execution_count": 43,
   "metadata": {},
   "outputs": [],
   "source": [
    "x = pa.values\n",
    "scaler = preprocessing.StandardScaler()\n",
    "cols = list(pa.columns)\n",
    "pa[cols] = scaler.fit_transform(pa[cols])"
   ]
  },
  {
   "cell_type": "code",
   "execution_count": 64,
   "metadata": {},
   "outputs": [],
   "source": [
    "y = data[\"EUI\"].values\n",
    "scaler = preprocessing.StandardScaler()\n",
    "cols = list([\"EUI\"])\n",
    "eui = scaler.fit_transform(data[cols])"
   ]
  },
  {
   "cell_type": "code",
   "execution_count": 65,
   "metadata": {},
   "outputs": [
    {
     "data": {
      "text/plain": [
       "array([[-0.04078851],\n",
       "       [-0.16473568],\n",
       "       [-0.70829036],\n",
       "       ...,\n",
       "       [-1.21412052],\n",
       "       [ 2.66391071],\n",
       "       [ 0.89406526]])"
      ]
     },
     "execution_count": 65,
     "metadata": {},
     "output_type": "execute_result"
    }
   ],
   "source": [
    "eui"
   ]
  },
  {
   "cell_type": "code",
   "execution_count": 44,
   "metadata": {},
   "outputs": [
    {
     "data": {
      "text/html": [
       "<div>\n",
       "<style scoped>\n",
       "    .dataframe tbody tr th:only-of-type {\n",
       "        vertical-align: middle;\n",
       "    }\n",
       "\n",
       "    .dataframe tbody tr th {\n",
       "        vertical-align: top;\n",
       "    }\n",
       "\n",
       "    .dataframe thead th {\n",
       "        text-align: right;\n",
       "    }\n",
       "</style>\n",
       "<table border=\"1\" class=\"dataframe\">\n",
       "  <thead>\n",
       "    <tr style=\"text-align: right;\">\n",
       "      <th></th>\n",
       "      <th>property_area</th>\n",
       "      <th>building_area</th>\n",
       "      <th>height</th>\n",
       "      <th>TotalFloor_sum</th>\n",
       "      <th>floor_area</th>\n",
       "      <th>sdbAre</th>\n",
       "      <th>sdbVol</th>\n",
       "      <th>sdbPer</th>\n",
       "      <th>sdbCoA</th>\n",
       "      <th>ssbFoF</th>\n",
       "      <th>...</th>\n",
       "      <th>xcnSCl</th>\n",
       "      <th>mtdMDi</th>\n",
       "      <th>lddNDe</th>\n",
       "      <th>linWID</th>\n",
       "      <th>lddRea</th>\n",
       "      <th>lddARe</th>\n",
       "      <th>sddAre</th>\n",
       "      <th>midRea</th>\n",
       "      <th>midAre</th>\n",
       "      <th>EUI</th>\n",
       "    </tr>\n",
       "  </thead>\n",
       "  <tbody>\n",
       "    <tr>\n",
       "      <th>0</th>\n",
       "      <td>-0.388048</td>\n",
       "      <td>0.655231</td>\n",
       "      <td>-0.040547</td>\n",
       "      <td>-0.170919</td>\n",
       "      <td>-0.199758</td>\n",
       "      <td>-0.388089</td>\n",
       "      <td>-0.199758</td>\n",
       "      <td>-0.534065</td>\n",
       "      <td>-0.038657</td>\n",
       "      <td>-0.264236</td>\n",
       "      <td>...</td>\n",
       "      <td>-0.252721</td>\n",
       "      <td>0.161096</td>\n",
       "      <td>-0.329000</td>\n",
       "      <td>-0.380027</td>\n",
       "      <td>-0.610350</td>\n",
       "      <td>-0.629053</td>\n",
       "      <td>-0.476143</td>\n",
       "      <td>-0.432656</td>\n",
       "      <td>-0.594408</td>\n",
       "      <td>-0.040789</td>\n",
       "    </tr>\n",
       "    <tr>\n",
       "      <th>1</th>\n",
       "      <td>-0.387378</td>\n",
       "      <td>-0.759693</td>\n",
       "      <td>-0.312311</td>\n",
       "      <td>-0.248280</td>\n",
       "      <td>-0.203895</td>\n",
       "      <td>-0.387421</td>\n",
       "      <td>-0.203895</td>\n",
       "      <td>-0.539342</td>\n",
       "      <td>-0.038657</td>\n",
       "      <td>-0.668532</td>\n",
       "      <td>...</td>\n",
       "      <td>-0.252721</td>\n",
       "      <td>-0.552738</td>\n",
       "      <td>0.232420</td>\n",
       "      <td>-0.233054</td>\n",
       "      <td>-0.719997</td>\n",
       "      <td>-0.105915</td>\n",
       "      <td>-0.226094</td>\n",
       "      <td>-0.772294</td>\n",
       "      <td>-0.554770</td>\n",
       "      <td>-0.164736</td>\n",
       "    </tr>\n",
       "    <tr>\n",
       "      <th>2</th>\n",
       "      <td>-0.382245</td>\n",
       "      <td>-0.844426</td>\n",
       "      <td>-0.312311</td>\n",
       "      <td>-0.302311</td>\n",
       "      <td>-0.202653</td>\n",
       "      <td>-0.382319</td>\n",
       "      <td>-0.202653</td>\n",
       "      <td>-0.522851</td>\n",
       "      <td>-0.038657</td>\n",
       "      <td>-0.606741</td>\n",
       "      <td>...</td>\n",
       "      <td>-0.252721</td>\n",
       "      <td>-0.651104</td>\n",
       "      <td>-0.191889</td>\n",
       "      <td>-0.153822</td>\n",
       "      <td>0.198946</td>\n",
       "      <td>-0.238075</td>\n",
       "      <td>0.517573</td>\n",
       "      <td>-0.202187</td>\n",
       "      <td>-0.039909</td>\n",
       "      <td>-0.708290</td>\n",
       "    </tr>\n",
       "    <tr>\n",
       "      <th>3</th>\n",
       "      <td>-0.388717</td>\n",
       "      <td>-0.740396</td>\n",
       "      <td>-0.380252</td>\n",
       "      <td>-0.233917</td>\n",
       "      <td>-0.205262</td>\n",
       "      <td>-0.388649</td>\n",
       "      <td>-0.205262</td>\n",
       "      <td>-0.537023</td>\n",
       "      <td>-0.038657</td>\n",
       "      <td>-0.648089</td>\n",
       "      <td>...</td>\n",
       "      <td>-0.252721</td>\n",
       "      <td>5.245467</td>\n",
       "      <td>-0.421118</td>\n",
       "      <td>-0.448519</td>\n",
       "      <td>-0.197870</td>\n",
       "      <td>-0.330851</td>\n",
       "      <td>0.117119</td>\n",
       "      <td>-0.226447</td>\n",
       "      <td>-0.340032</td>\n",
       "      <td>-0.522169</td>\n",
       "    </tr>\n",
       "    <tr>\n",
       "      <th>4</th>\n",
       "      <td>-0.361712</td>\n",
       "      <td>-0.578040</td>\n",
       "      <td>0.163276</td>\n",
       "      <td>-0.143071</td>\n",
       "      <td>-0.187791</td>\n",
       "      <td>-0.361776</td>\n",
       "      <td>-0.187791</td>\n",
       "      <td>-0.489363</td>\n",
       "      <td>-0.038657</td>\n",
       "      <td>-0.396540</td>\n",
       "      <td>...</td>\n",
       "      <td>-0.252721</td>\n",
       "      <td>-0.158526</td>\n",
       "      <td>-0.256392</td>\n",
       "      <td>0.136628</td>\n",
       "      <td>-0.683448</td>\n",
       "      <td>-0.527792</td>\n",
       "      <td>-0.522068</td>\n",
       "      <td>-0.735905</td>\n",
       "      <td>-0.683073</td>\n",
       "      <td>-0.039784</td>\n",
       "    </tr>\n",
       "    <tr>\n",
       "      <th>...</th>\n",
       "      <td>...</td>\n",
       "      <td>...</td>\n",
       "      <td>...</td>\n",
       "      <td>...</td>\n",
       "      <td>...</td>\n",
       "      <td>...</td>\n",
       "      <td>...</td>\n",
       "      <td>...</td>\n",
       "      <td>...</td>\n",
       "      <td>...</td>\n",
       "      <td>...</td>\n",
       "      <td>...</td>\n",
       "      <td>...</td>\n",
       "      <td>...</td>\n",
       "      <td>...</td>\n",
       "      <td>...</td>\n",
       "      <td>...</td>\n",
       "      <td>...</td>\n",
       "      <td>...</td>\n",
       "      <td>...</td>\n",
       "      <td>...</td>\n",
       "    </tr>\n",
       "    <tr>\n",
       "      <th>13005</th>\n",
       "      <td>0.160317</td>\n",
       "      <td>1.423124</td>\n",
       "      <td>0.706803</td>\n",
       "      <td>0.006567</td>\n",
       "      <td>0.049957</td>\n",
       "      <td>0.160426</td>\n",
       "      <td>0.049957</td>\n",
       "      <td>0.261946</td>\n",
       "      <td>-0.038657</td>\n",
       "      <td>-0.083134</td>\n",
       "      <td>...</td>\n",
       "      <td>0.715334</td>\n",
       "      <td>-0.228352</td>\n",
       "      <td>-0.465375</td>\n",
       "      <td>-0.357541</td>\n",
       "      <td>3.953038</td>\n",
       "      <td>4.524751</td>\n",
       "      <td>3.212422</td>\n",
       "      <td>3.897735</td>\n",
       "      <td>4.697704</td>\n",
       "      <td>1.867627</td>\n",
       "    </tr>\n",
       "    <tr>\n",
       "      <th>13006</th>\n",
       "      <td>-0.158168</td>\n",
       "      <td>-0.611265</td>\n",
       "      <td>-1.209132</td>\n",
       "      <td>-0.298781</td>\n",
       "      <td>-0.200759</td>\n",
       "      <td>-0.158238</td>\n",
       "      <td>-0.200759</td>\n",
       "      <td>-0.056454</td>\n",
       "      <td>-0.038657</td>\n",
       "      <td>-0.357146</td>\n",
       "      <td>...</td>\n",
       "      <td>-0.252721</td>\n",
       "      <td>-0.385980</td>\n",
       "      <td>0.288781</td>\n",
       "      <td>-0.865527</td>\n",
       "      <td>-0.599908</td>\n",
       "      <td>-0.416104</td>\n",
       "      <td>0.762756</td>\n",
       "      <td>-0.408396</td>\n",
       "      <td>-0.069555</td>\n",
       "      <td>-1.259873</td>\n",
       "    </tr>\n",
       "    <tr>\n",
       "      <th>13007</th>\n",
       "      <td>-0.367738</td>\n",
       "      <td>-0.839711</td>\n",
       "      <td>-0.190018</td>\n",
       "      <td>-0.318638</td>\n",
       "      <td>-0.196699</td>\n",
       "      <td>-0.367723</td>\n",
       "      <td>-0.196699</td>\n",
       "      <td>-0.477557</td>\n",
       "      <td>-0.038657</td>\n",
       "      <td>-0.330595</td>\n",
       "      <td>...</td>\n",
       "      <td>-0.252721</td>\n",
       "      <td>-0.545190</td>\n",
       "      <td>0.670593</td>\n",
       "      <td>-0.865527</td>\n",
       "      <td>-0.840086</td>\n",
       "      <td>-0.695951</td>\n",
       "      <td>-0.642899</td>\n",
       "      <td>-0.966373</td>\n",
       "      <td>-0.759290</td>\n",
       "      <td>-1.214121</td>\n",
       "    </tr>\n",
       "    <tr>\n",
       "      <th>13008</th>\n",
       "      <td>-0.255253</td>\n",
       "      <td>-0.276541</td>\n",
       "      <td>-0.162841</td>\n",
       "      <td>-0.317491</td>\n",
       "      <td>-0.165649</td>\n",
       "      <td>-0.255271</td>\n",
       "      <td>-0.165649</td>\n",
       "      <td>-0.180787</td>\n",
       "      <td>-0.038657</td>\n",
       "      <td>0.326850</td>\n",
       "      <td>...</td>\n",
       "      <td>-0.252721</td>\n",
       "      <td>-0.424699</td>\n",
       "      <td>0.357239</td>\n",
       "      <td>-0.865527</td>\n",
       "      <td>0.172840</td>\n",
       "      <td>-0.329531</td>\n",
       "      <td>-0.298738</td>\n",
       "      <td>1.386836</td>\n",
       "      <td>0.143819</td>\n",
       "      <td>2.663911</td>\n",
       "    </tr>\n",
       "    <tr>\n",
       "      <th>13009</th>\n",
       "      <td>1.389171</td>\n",
       "      <td>3.497196</td>\n",
       "      <td>0.516569</td>\n",
       "      <td>0.505803</td>\n",
       "      <td>0.516753</td>\n",
       "      <td>1.389184</td>\n",
       "      <td>0.516753</td>\n",
       "      <td>1.137169</td>\n",
       "      <td>-0.038657</td>\n",
       "      <td>-0.471878</td>\n",
       "      <td>...</td>\n",
       "      <td>5.027576</td>\n",
       "      <td>0.175589</td>\n",
       "      <td>-0.261098</td>\n",
       "      <td>0.804972</td>\n",
       "      <td>-0.584244</td>\n",
       "      <td>-0.445079</td>\n",
       "      <td>-0.274849</td>\n",
       "      <td>-0.335616</td>\n",
       "      <td>-0.223792</td>\n",
       "      <td>0.894065</td>\n",
       "    </tr>\n",
       "  </tbody>\n",
       "</table>\n",
       "<p>13010 rows × 81 columns</p>\n",
       "</div>"
      ],
      "text/plain": [
       "       property_area  building_area    height  TotalFloor_sum  floor_area  \\\n",
       "0          -0.388048       0.655231 -0.040547       -0.170919   -0.199758   \n",
       "1          -0.387378      -0.759693 -0.312311       -0.248280   -0.203895   \n",
       "2          -0.382245      -0.844426 -0.312311       -0.302311   -0.202653   \n",
       "3          -0.388717      -0.740396 -0.380252       -0.233917   -0.205262   \n",
       "4          -0.361712      -0.578040  0.163276       -0.143071   -0.187791   \n",
       "...              ...            ...       ...             ...         ...   \n",
       "13005       0.160317       1.423124  0.706803        0.006567    0.049957   \n",
       "13006      -0.158168      -0.611265 -1.209132       -0.298781   -0.200759   \n",
       "13007      -0.367738      -0.839711 -0.190018       -0.318638   -0.196699   \n",
       "13008      -0.255253      -0.276541 -0.162841       -0.317491   -0.165649   \n",
       "13009       1.389171       3.497196  0.516569        0.505803    0.516753   \n",
       "\n",
       "         sdbAre    sdbVol    sdbPer    sdbCoA    ssbFoF  ...    xcnSCl  \\\n",
       "0     -0.388089 -0.199758 -0.534065 -0.038657 -0.264236  ... -0.252721   \n",
       "1     -0.387421 -0.203895 -0.539342 -0.038657 -0.668532  ... -0.252721   \n",
       "2     -0.382319 -0.202653 -0.522851 -0.038657 -0.606741  ... -0.252721   \n",
       "3     -0.388649 -0.205262 -0.537023 -0.038657 -0.648089  ... -0.252721   \n",
       "4     -0.361776 -0.187791 -0.489363 -0.038657 -0.396540  ... -0.252721   \n",
       "...         ...       ...       ...       ...       ...  ...       ...   \n",
       "13005  0.160426  0.049957  0.261946 -0.038657 -0.083134  ...  0.715334   \n",
       "13006 -0.158238 -0.200759 -0.056454 -0.038657 -0.357146  ... -0.252721   \n",
       "13007 -0.367723 -0.196699 -0.477557 -0.038657 -0.330595  ... -0.252721   \n",
       "13008 -0.255271 -0.165649 -0.180787 -0.038657  0.326850  ... -0.252721   \n",
       "13009  1.389184  0.516753  1.137169 -0.038657 -0.471878  ...  5.027576   \n",
       "\n",
       "         mtdMDi    lddNDe    linWID    lddRea    lddARe    sddAre    midRea  \\\n",
       "0      0.161096 -0.329000 -0.380027 -0.610350 -0.629053 -0.476143 -0.432656   \n",
       "1     -0.552738  0.232420 -0.233054 -0.719997 -0.105915 -0.226094 -0.772294   \n",
       "2     -0.651104 -0.191889 -0.153822  0.198946 -0.238075  0.517573 -0.202187   \n",
       "3      5.245467 -0.421118 -0.448519 -0.197870 -0.330851  0.117119 -0.226447   \n",
       "4     -0.158526 -0.256392  0.136628 -0.683448 -0.527792 -0.522068 -0.735905   \n",
       "...         ...       ...       ...       ...       ...       ...       ...   \n",
       "13005 -0.228352 -0.465375 -0.357541  3.953038  4.524751  3.212422  3.897735   \n",
       "13006 -0.385980  0.288781 -0.865527 -0.599908 -0.416104  0.762756 -0.408396   \n",
       "13007 -0.545190  0.670593 -0.865527 -0.840086 -0.695951 -0.642899 -0.966373   \n",
       "13008 -0.424699  0.357239 -0.865527  0.172840 -0.329531 -0.298738  1.386836   \n",
       "13009  0.175589 -0.261098  0.804972 -0.584244 -0.445079 -0.274849 -0.335616   \n",
       "\n",
       "         midAre       EUI  \n",
       "0     -0.594408 -0.040789  \n",
       "1     -0.554770 -0.164736  \n",
       "2     -0.039909 -0.708290  \n",
       "3     -0.340032 -0.522169  \n",
       "4     -0.683073 -0.039784  \n",
       "...         ...       ...  \n",
       "13005  4.697704  1.867627  \n",
       "13006 -0.069555 -1.259873  \n",
       "13007 -0.759290 -1.214121  \n",
       "13008  0.143819  2.663911  \n",
       "13009 -0.223792  0.894065  \n",
       "\n",
       "[13010 rows x 81 columns]"
      ]
     },
     "execution_count": 44,
     "metadata": {},
     "output_type": "execute_result"
    }
   ],
   "source": [
    "pa"
   ]
  },
  {
   "cell_type": "code",
   "execution_count": 45,
   "metadata": {},
   "outputs": [],
   "source": [
    "pi = pa.drop(columns=[\"EUI\"])"
   ]
  },
  {
   "cell_type": "code",
   "execution_count": null,
   "metadata": {},
   "outputs": [],
   "source": []
  },
  {
   "cell_type": "code",
   "execution_count": 46,
   "metadata": {},
   "outputs": [],
   "source": [
    "bic = pd.DataFrame(columns=['n', 'bic', 'run'])\n",
    "ix = 0\n",
    "\n",
    "n_components_range = range(2, 10) # specify range you want to assess. 2-8 is sensible for the sample, not the whole city\n",
    "gmmruns = 1  # specify how many times should each option be tried (more better, but takes a long time)"
   ]
  },
  {
   "cell_type": "code",
   "execution_count": 47,
   "metadata": {},
   "outputs": [
    {
     "name": "stdout",
     "output_type": "stream",
     "text": [
      "Initialization 0\n",
      "  Iteration 10\n",
      "  Iteration 20\n",
      "  Iteration 30\n",
      "Initialization converged: True\n",
      "2 0 BIC: 1003713.2604265236\n",
      "Initialization 0\n",
      "  Iteration 10\n",
      "Initialization converged: True\n",
      "3 0 BIC: 801213.9608693102\n",
      "Initialization 0\n",
      "  Iteration 10\n",
      "  Iteration 20\n",
      "  Iteration 30\n",
      "  Iteration 40\n",
      "  Iteration 50\n",
      "  Iteration 60\n",
      "Initialization converged: True\n",
      "4 0 BIC: 751981.3728706224\n",
      "Initialization 0\n",
      "  Iteration 10\n",
      "  Iteration 20\n",
      "  Iteration 30\n",
      "  Iteration 40\n",
      "Initialization converged: True\n",
      "5 0 BIC: 480853.73301828606\n",
      "Initialization 0\n",
      "  Iteration 10\n",
      "  Iteration 20\n",
      "  Iteration 30\n",
      "  Iteration 40\n",
      "Initialization converged: True\n",
      "6 0 BIC: 561152.5437733633\n",
      "Initialization 0\n",
      "  Iteration 10\n",
      "  Iteration 20\n",
      "  Iteration 30\n",
      "  Iteration 40\n",
      "  Iteration 50\n",
      "  Iteration 60\n",
      "  Iteration 70\n",
      "  Iteration 80\n",
      "Initialization converged: True\n",
      "7 0 BIC: 345691.67185778054\n",
      "Initialization 0\n",
      "  Iteration 10\n",
      "  Iteration 20\n",
      "  Iteration 30\n",
      "  Iteration 40\n",
      "  Iteration 50\n",
      "  Iteration 60\n",
      "  Iteration 70\n",
      "  Iteration 80\n",
      "  Iteration 90\n",
      "  Iteration 100\n",
      "Initialization converged: True\n",
      "8 0 BIC: 266420.35741694696\n",
      "Initialization 0\n",
      "  Iteration 10\n",
      "  Iteration 20\n",
      "  Iteration 30\n",
      "  Iteration 40\n",
      "Initialization converged: True\n",
      "9 0 BIC: 349508.73915991595\n"
     ]
    }
   ],
   "source": [
    "for n_components in n_components_range:\n",
    "    for i in range(gmmruns):\n",
    "        gmm = GaussianMixture(n_components=n_components, covariance_type=\"full\", max_iter=200, n_init=1, verbose=1)\n",
    "        fitted = gmm.fit(pi)\n",
    "        bicnum = gmm.bic(pi)\n",
    "        bic.loc[ix] = [n_components, bicnum, i]\n",
    "        ix += 1\n",
    "\n",
    "        print(n_components, i, \"BIC:\", bicnum)"
   ]
  },
  {
   "cell_type": "code",
   "execution_count": 48,
   "metadata": {},
   "outputs": [
    {
     "data": {
      "text/plain": [
       "<AxesSubplot:xlabel='n', ylabel='bic'>"
      ]
     },
     "execution_count": 48,
     "metadata": {},
     "output_type": "execute_result"
    },
    {
     "data": {
      "image/png": "[encoded data removed]",
      "text/plain": [
       "<Figure size 1152x1152 with 1 Axes>"
      ]
     },
     "metadata": {
      "needs_background": "light"
     },
     "output_type": "display_data"
    }
   ],
   "source": [
    "fig, ax = plt.subplots(figsize=(16, 16))\n",
    "sns.lineplot(ax=ax, x='n', y='bic', data=bic)\n",
    "# plt.savefig('../files/complete_BIC.pdf')"
   ]
  },
  {
   "cell_type": "code",
   "execution_count": null,
   "metadata": {},
   "outputs": [],
   "source": [
    "n = 9  # illustrative - always base the number on a reasonable estimation of the optimal number of components\n",
    "n_init = 5  # more initialization, more stable clustering gets\n",
    "\n",
    "gmm = GaussianMixture(n_components=n, covariance_type=\"full\", max_iter=200, n_init=n_init, verbose=1)\n",
    "fitted = gmm.fit(pi)"
   ]
  },
  {
   "cell_type": "code",
   "execution_count": 49,
   "metadata": {},
   "outputs": [
    {
     "data": {
      "text/plain": [
       "Text(0, 0.5, 'cumulative explained variance')"
      ]
     },
     "execution_count": 49,
     "metadata": {},
     "output_type": "execute_result"
    },
    {
     "data": {
      "image/png": "[encoded data removed]",
      "text/plain": [
       "<Figure size 432x288 with 1 Axes>"
      ]
     },
     "metadata": {
      "needs_background": "light"
     },
     "output_type": "display_data"
    }
   ],
   "source": [
    "pca = PCA().fit(pi)\n",
    "plt.plot(np.cumsum(pca.explained_variance_ratio_))\n",
    "plt.xlabel('number of components')\n",
    "plt.ylabel('cumulative explained variance')"
   ]
  },
  {
   "cell_type": "code",
   "execution_count": 27,
   "metadata": {},
   "outputs": [
    {
     "name": "stdout",
     "output_type": "stream",
     "text": [
      "Transformed data:\n",
      "[[-2.43644531 -2.04678503 -0.99826097 ... -0.17473911 -0.33919125\n",
      "  -0.59106118]\n",
      " [-1.75654834 -1.47682    -0.71887665 ... -0.36575688  0.3111265\n",
      "  -0.72679795]\n",
      " [-0.67482917 -1.19928129 -4.66827889 ... -0.21669601  0.28384941\n",
      "   0.36759615]\n",
      " ...\n",
      " [ 0.25752546 -2.77031866 -1.28953032 ... -0.78828232  0.55134952\n",
      "  -0.08177654]\n",
      " [-0.95835868  0.71275769 -0.1258134  ... -0.10227171 -0.5969053\n",
      "   0.33708303]\n",
      " [ 4.17058106 -0.3185419   4.47785957 ...  2.17066473  0.43090222\n",
      "   1.85385676]]\n",
      "Explained Variance Ratio:\n",
      "[0.15210795 0.09595914 0.07475692 0.05595644 0.04669855 0.04301719\n",
      " 0.04076025 0.02694888 0.02239816 0.02215077 0.02162676 0.01979922\n",
      " 0.01790766 0.01722155 0.01613233 0.01505708 0.01447088 0.01430018\n",
      " 0.01393853 0.01288117 0.0121641  0.01193305 0.01190041 0.01151971\n",
      " 0.0110857  0.01088513 0.01048791 0.01023046 0.00938766 0.00928171\n",
      " 0.00880035 0.00838306 0.00806795 0.00779788 0.00769794 0.00735422\n",
      " 0.00688886 0.00682662 0.00642796 0.00592396 0.00583172 0.00485733\n",
      " 0.00470902 0.00442527 0.0039916 ]\n"
     ]
    }
   ],
   "source": [
    "\n",
    "\n",
    "# Initialize PCA\n",
    "pca = PCA(n_components=45)  # Specify the number of components you want\n",
    "\n",
    "# Fit the data\n",
    "pca.fit(pi)\n",
    "\n",
    "# Transform the data\n",
    "transformed_data = pca.transform(pi)\n",
    "\n",
    "# Explained variance ratio\n",
    "explained_variance_ratio = pca.explained_variance_ratio_\n",
    "\n",
    "print(\"Transformed data:\")\n",
    "print(transformed_data)\n",
    "print(\"Explained Variance Ratio:\")\n",
    "print(explained_variance_ratio)"
   ]
  },
  {
   "cell_type": "code",
   "execution_count": 66,
   "metadata": {},
   "outputs": [
    {
     "name": "stderr",
     "output_type": "stream",
     "text": [
      "C:\\Users\\liche\\anaconda3\\lib\\site-packages\\sklearn\\utils\\validation.py:72: DataConversionWarning: A column-vector y was passed when a 1d array was expected. Please change the shape of y to (n_samples, ), for example using ravel().\n",
      "  return f(**kwargs)\n"
     ]
    },
    {
     "name": "stdout",
     "output_type": "stream",
     "text": [
      "Mean Squared Error: 0.7129615726367388\n"
     ]
    }
   ],
   "source": [
    "from sklearn.ensemble import GradientBoostingRegressor\n",
    "from sklearn.model_selection import train_test_split\n",
    "from sklearn.metrics import mean_squared_error\n",
    "\n",
    "# Assuming you have your dataset and target array\n",
    "X = pi  # Your dataset\n",
    "y = eui  # Your target array\n",
    "\n",
    "# Split data into train and test sets\n",
    "X_train, X_test, y_train, y_test = train_test_split(X, y, test_size=0.2, random_state=42)\n",
    "\n",
    "# Initialize the Gradient Boosting Regressor\n",
    "gb_regressor = GradientBoostingRegressor(n_estimators=200, learning_rate=0.05, max_depth=5, random_state=42)\n",
    "\n",
    "# Train the model\n",
    "gb_regressor.fit(X_train, y_train)\n",
    "\n",
    "# Make predictions on the test set\n",
    "predictions = gb_regressor.predict(X_test)\n",
    "\n",
    "# Evaluate the model\n",
    "mse = mean_squared_error(y_test, predictions)\n",
    "print(\"Mean Squared Error:\", mse)\n"
   ]
  },
  {
   "cell_type": "code",
   "execution_count": 70,
   "metadata": {},
   "outputs": [
    {
     "data": {
      "text/plain": [
       "0.20804310193122066"
      ]
     },
     "execution_count": 70,
     "metadata": {},
     "output_type": "execute_result"
    }
   ],
   "source": [
    "gb_regressor.score(X_test, y_test)"
   ]
  },
  {
   "cell_type": "code",
   "execution_count": 67,
   "metadata": {},
   "outputs": [
    {
     "data": {
      "text/plain": [
       "array([-0.32187383, -0.17113928, -0.00897615, ...,  0.07739341,\n",
       "        0.03781826, -0.05332465])"
      ]
     },
     "execution_count": 67,
     "metadata": {},
     "output_type": "execute_result"
    }
   ],
   "source": [
    "predictions"
   ]
  },
  {
   "cell_type": "code",
   "execution_count": null,
   "metadata": {},
   "outputs": [],
   "source": []
  },
  {
   "cell_type": "code",
   "execution_count": 68,
   "metadata": {},
   "outputs": [
    {
     "data": {
      "text/plain": [
       "array([[-0.91839429],\n",
       "       [-0.16443735],\n",
       "       [-0.10443888],\n",
       "       ...,\n",
       "       [-0.71508961],\n",
       "       [ 1.43624759],\n",
       "       [-1.4063739 ]])"
      ]
     },
     "execution_count": 68,
     "metadata": {},
     "output_type": "execute_result"
    }
   ],
   "source": [
    "y_test"
   ]
  },
  {
   "cell_type": "code",
   "execution_count": 69,
   "metadata": {},
   "outputs": [
    {
     "data": {
      "text/plain": [
       "<matplotlib.collections.PathCollection at 0x2c50d2a8a90>"
      ]
     },
     "execution_count": 69,
     "metadata": {},
     "output_type": "execute_result"
    },
    {
     "data": {
      "image/png": "[encoded data removed]",
      "text/plain": [
       "<Figure size 432x288 with 1 Axes>"
      ]
     },
     "metadata": {
      "needs_background": "light"
     },
     "output_type": "display_data"
    }
   ],
   "source": [
    "plt.scatter(predictions, y_test)"
   ]
  },
  {
   "cell_type": "code",
   "execution_count": 74,
   "metadata": {},
   "outputs": [
    {
     "name": "stdout",
     "output_type": "stream",
     "text": [
      "Mean Squared Error: 0.7901915460804374\n"
     ]
    }
   ],
   "source": [
    "from sklearn.datasets import load_boston\n",
    "from sklearn.model_selection import train_test_split\n",
    "from sklearn.neighbors import KNeighborsRegressor\n",
    "from sklearn.metrics import mean_squared_error\n",
    "\n",
    "# Load the Boston housing dataset (example dataset)\n",
    "X = pi  # Your dataset\n",
    "y = eui  # Your target array\n",
    "\n",
    "# Split the dataset into train and test sets\n",
    "X_train, X_test, y_train, y_test = train_test_split(X, y, test_size=0.2, random_state=42)\n",
    "\n",
    "# Initialize the K-Nearest Neighbors Regressor\n",
    "knn_reg = KNeighborsRegressor(n_neighbors=5)\n",
    "\n",
    "# Train the model\n",
    "knn_reg.fit(X_train, y_train)\n",
    "\n",
    "# Make predictions\n",
    "predictions = knn_reg.predict(X_test)\n",
    "\n",
    "# Evaluate the model\n",
    "mse = mean_squared_error(y_test, predictions)\n",
    "print(\"Mean Squared Error:\", mse)\n"
   ]
  },
  {
   "cell_type": "code",
   "execution_count": 72,
   "metadata": {},
   "outputs": [
    {
     "name": "stderr",
     "output_type": "stream",
     "text": [
      "C:\\Users\\liche\\anaconda3\\lib\\site-packages\\sklearn\\utils\\validation.py:72: DataConversionWarning: A column-vector y was passed when a 1d array was expected. Please change the shape of y to (n_samples, ), for example using ravel().\n",
      "  return f(**kwargs)\n"
     ]
    },
    {
     "name": "stdout",
     "output_type": "stream",
     "text": [
      "Mean Squared Error: 1.1417392336267993\n"
     ]
    }
   ],
   "source": [
    "from sklearn.datasets import load_boston\n",
    "from sklearn.model_selection import train_test_split\n",
    "from sklearn.neural_network import MLPRegressor\n",
    "from sklearn.metrics import mean_squared_error\n",
    "from sklearn.preprocessing import StandardScaler\n",
    "\n",
    "# Load the Boston housing dataset (example dataset)\n",
    "\n",
    "X = pi  # Your dataset\n",
    "y = eui  # Your target array\n",
    "\n",
    "# Standardize features\n",
    "scaler = StandardScaler()\n",
    "X_scaled = scaler.fit_transform(X)\n",
    "\n",
    "# Split the dataset into train and test sets\n",
    "X_train, X_test, y_train, y_test = train_test_split(X_scaled, y, test_size=0.2, random_state=42)\n",
    "\n",
    "# Initialize the MLP Regressor\n",
    "mlp_reg = MLPRegressor(hidden_layer_sizes=(100, ), activation='relu', solver='adam', max_iter=1000, random_state=42)\n",
    "\n",
    "# Train the model\n",
    "mlp_reg.fit(X_train, y_train)\n",
    "\n",
    "# Make predictions\n",
    "predictions = mlp_reg.predict(X_test)\n",
    "\n",
    "# Evaluate the model\n",
    "mse = mean_squared_error(y_test, predictions)\n",
    "print(\"Mean Squared Error:\", mse)\n"
   ]
  },
  {
   "cell_type": "code",
   "execution_count": 75,
   "metadata": {},
   "outputs": [
    {
     "data": {
      "text/plain": [
       "<matplotlib.collections.PathCollection at 0x2c50d3d6670>"
      ]
     },
     "execution_count": 75,
     "metadata": {},
     "output_type": "execute_result"
    },
    {
     "data": {
      "image/png": "[encoded data removed]",
      "text/plain": [
       "<Figure size 432x288 with 1 Axes>"
      ]
     },
     "metadata": {
      "needs_background": "light"
     },
     "output_type": "display_data"
    }
   ],
   "source": [
    "plt.scatter(predictions, y_test)"
   ]
  },
  {
   "cell_type": "code",
   "execution_count": 76,
   "metadata": {},
   "outputs": [
    {
     "name": "stderr",
     "output_type": "stream",
     "text": [
      "C:\\Users\\liche\\anaconda3\\lib\\site-packages\\sklearn\\utils\\validation.py:72: DataConversionWarning: A column-vector y was passed when a 1d array was expected. Please change the shape of y to (n_samples, ), for example using ravel().\n",
      "  return f(**kwargs)\n"
     ]
    },
    {
     "name": "stdout",
     "output_type": "stream",
     "text": [
      "Mean Squared Error: 0.7534392634850293\n"
     ]
    }
   ],
   "source": [
    "from sklearn.datasets import load_boston\n",
    "from sklearn.model_selection import train_test_split\n",
    "from sklearn.svm import SVR\n",
    "from sklearn.metrics import mean_squared_error\n",
    "from sklearn.preprocessing import StandardScaler\n",
    "\n",
    "# Load the Boston housing dataset (example dataset)\n",
    "X = pi  # Your dataset\n",
    "y = eui  # Your target array\n",
    "# Standardize features\n",
    "scaler = StandardScaler()\n",
    "X_scaled = scaler.fit_transform(X)\n",
    "\n",
    "# Split the dataset into train and test sets\n",
    "X_train, X_test, y_train, y_test = train_test_split(X_scaled, y, test_size=0.2, random_state=42)\n",
    "\n",
    "# Initialize the SVR\n",
    "svr = SVR(kernel='rbf')\n",
    "\n",
    "# Train the model\n",
    "svr.fit(X_train, y_train)\n",
    "\n",
    "# Make predictions\n",
    "predictions = svr.predict(X_test)\n",
    "\n",
    "# Evaluate the model\n",
    "mse = mean_squared_error(y_test, predictions)\n",
    "print(\"Mean Squared Error:\", mse)\n"
   ]
  },
  {
   "cell_type": "code",
   "execution_count": 77,
   "metadata": {},
   "outputs": [
    {
     "data": {
      "text/plain": [
       "<matplotlib.collections.PathCollection at 0x2c50d40a400>"
      ]
     },
     "execution_count": 77,
     "metadata": {},
     "output_type": "execute_result"
    },
    {
     "data": {
      "image/png": "[encoded data removed]",
      "text/plain": [
       "<Figure size 432x288 with 1 Axes>"
      ]
     },
     "metadata": {
      "needs_background": "light"
     },
     "output_type": "display_data"
    }
   ],
   "source": [
    "plt.scatter(predictions, y_test)"
   ]
  },
  {
   "cell_type": "code",
   "execution_count": 78,
   "metadata": {},
   "outputs": [
    {
     "name": "stderr",
     "output_type": "stream",
     "text": [
      "<ipython-input-78-e279bb181207>:18: DataConversionWarning: A column-vector y was passed when a 1d array was expected. Please change the shape of y to (n_samples,), for example using ravel().\n",
      "  rf_reg.fit(X_train, y_train)\n"
     ]
    },
    {
     "name": "stdout",
     "output_type": "stream",
     "text": [
      "Mean Squared Error: 0.6744682681428209\n"
     ]
    }
   ],
   "source": [
    "from sklearn.datasets import load_boston\n",
    "from sklearn.model_selection import train_test_split\n",
    "from sklearn.ensemble import RandomForestRegressor\n",
    "from sklearn.metrics import mean_squared_error\n",
    "\n",
    "# Load the Boston housing dataset (example dataset)\n",
    "\n",
    "X = pi  # Your dataset\n",
    "y = eui  # Your target array\n",
    "\n",
    "# Split the dataset into train and test sets\n",
    "X_train, X_test, y_train, y_test = train_test_split(X, y, test_size=0.2, random_state=42)\n",
    "\n",
    "# Initialize the Random Forest Regressor\n",
    "rf_reg = RandomForestRegressor(n_estimators=100, random_state=42)\n",
    "\n",
    "# Train the model\n",
    "rf_reg.fit(X_train, y_train)\n",
    "\n",
    "# Make predictions\n",
    "predictions = rf_reg.predict(X_test)\n",
    "\n",
    "# Evaluate the model\n",
    "mse = mean_squared_error(y_test, predictions)\n",
    "print(\"Mean Squared Error:\", mse)\n"
   ]
  },
  {
   "cell_type": "code",
   "execution_count": 79,
   "metadata": {},
   "outputs": [
    {
     "data": {
      "text/plain": [
       "<matplotlib.collections.PathCollection at 0x2c50d48ff10>"
      ]
     },
     "execution_count": 79,
     "metadata": {},
     "output_type": "execute_result"
    },
    {
     "data": {
      "image/png": "[encoded data removed]",
      "text/plain": [
       "<Figure size 432x288 with 1 Axes>"
      ]
     },
     "metadata": {
      "needs_background": "light"
     },
     "output_type": "display_data"
    }
   ],
   "source": [
    "plt.scatter(predictions, y_test)"
   ]
  },
  {
   "cell_type": "code",
   "execution_count": 80,
   "metadata": {},
   "outputs": [
    {
     "name": "stdout",
     "output_type": "stream",
     "text": [
      "Mean Squared Error: 0.874191791410117\n"
     ]
    }
   ],
   "source": [
    "from sklearn.datasets import load_boston\n",
    "from sklearn.model_selection import train_test_split\n",
    "from sklearn.linear_model import Lasso\n",
    "from sklearn.metrics import mean_squared_error\n",
    "from sklearn.preprocessing import StandardScaler\n",
    "\n",
    "# Load the Boston housing dataset (example dataset)\n",
    "X = pi  # Your dataset\n",
    "y = eui  # Your target array\n",
    "# Standardize features\n",
    "scaler = StandardScaler()\n",
    "X_scaled = scaler.fit_transform(X)\n",
    "\n",
    "# Split the dataset into train and test sets\n",
    "X_train, X_test, y_train, y_test = train_test_split(X_scaled, y, test_size=0.2, random_state=42)\n",
    "\n",
    "# Initialize the Lasso regressor\n",
    "lasso_reg = Lasso(alpha=0.1)\n",
    "\n",
    "# Train the model\n",
    "lasso_reg.fit(X_train, y_train)\n",
    "\n",
    "# Make predictions\n",
    "predictions = lasso_reg.predict(X_test)\n",
    "\n",
    "# Evaluate the model\n",
    "mse = mean_squared_error(y_test, predictions)\n",
    "print(\"Mean Squared Error:\", mse)\n"
   ]
  },
  {
   "cell_type": "code",
   "execution_count": 81,
   "metadata": {},
   "outputs": [
    {
     "data": {
      "text/plain": [
       "<matplotlib.collections.PathCollection at 0x2c50d4449a0>"
      ]
     },
     "execution_count": 81,
     "metadata": {},
     "output_type": "execute_result"
    },
    {
     "data": {
      "image/png": "[encoded data removed]",
      "text/plain": [
       "<Figure size 432x288 with 1 Axes>"
      ]
     },
     "metadata": {
      "needs_background": "light"
     },
     "output_type": "display_data"
    }
   ],
   "source": [
    "plt.scatter(predictions, y_test)"
   ]
  },
  {
   "cell_type": "code",
   "execution_count": 82,
   "metadata": {},
   "outputs": [
    {
     "name": "stdout",
     "output_type": "stream",
     "text": [
      "Mean Squared Error: 0.8434065067378513\n"
     ]
    }
   ],
   "source": [
    "from sklearn.datasets import load_boston\n",
    "from sklearn.model_selection import train_test_split\n",
    "from sklearn.linear_model import ElasticNet\n",
    "from sklearn.metrics import mean_squared_error\n",
    "from sklearn.preprocessing import StandardScaler\n",
    "\n",
    "# Load the Boston housing dataset (example dataset)\n",
    "X = pi  # Your dataset\n",
    "y = eui  # Your target array\n",
    "\n",
    "# Standardize features\n",
    "scaler = StandardScaler()\n",
    "X_scaled = scaler.fit_transform(X)\n",
    "\n",
    "# Split the dataset into train and test sets\n",
    "X_train, X_test, y_train, y_test = train_test_split(X_scaled, y, test_size=0.2, random_state=42)\n",
    "\n",
    "# Initialize the ElasticNet regressor\n",
    "elastic_net = ElasticNet(alpha=0.1, l1_ratio=0.5)\n",
    "\n",
    "# Train the model\n",
    "elastic_net.fit(X_train, y_train)\n",
    "\n",
    "# Make predictions\n",
    "predictions = elastic_net.predict(X_test)\n",
    "\n",
    "# Evaluate the model\n",
    "mse = mean_squared_error(y_test, predictions)\n",
    "print(\"Mean Squared Error:\", mse)\n"
   ]
  },
  {
   "cell_type": "code",
   "execution_count": 83,
   "metadata": {},
   "outputs": [
    {
     "data": {
      "text/plain": [
       "<matplotlib.collections.PathCollection at 0x2c50d444d90>"
      ]
     },
     "execution_count": 83,
     "metadata": {},
     "output_type": "execute_result"
    },
    {
     "data": {
      "image/png": "[encoded data removed]",
      "text/plain": [
       "<Figure size 432x288 with 1 Axes>"
      ]
     },
     "metadata": {
      "needs_background": "light"
     },
     "output_type": "display_data"
    }
   ],
   "source": [
    "plt.scatter(predictions, y_test)"
   ]
  },
  {
   "cell_type": "code",
   "execution_count": 87,
   "metadata": {},
   "outputs": [
    {
     "name": "stdout",
     "output_type": "stream",
     "text": [
      "Fitting 5 folds for each of 12 candidates, totalling 60 fits\n"
     ]
    },
    {
     "name": "stderr",
     "output_type": "stream",
     "text": [
      "[Parallel(n_jobs=1)]: Using backend SequentialBackend with 1 concurrent workers.\n",
      "C:\\Users\\liche\\anaconda3\\lib\\site-packages\\sklearn\\utils\\validation.py:72: DataConversionWarning: A column-vector y was passed when a 1d array was expected. Please change the shape of y to (n_samples, ), for example using ravel().\n",
      "  return f(**kwargs)\n",
      "C:\\Users\\liche\\anaconda3\\lib\\site-packages\\sklearn\\utils\\validation.py:72: DataConversionWarning: A column-vector y was passed when a 1d array was expected. Please change the shape of y to (n_samples, ), for example using ravel().\n",
      "  return f(**kwargs)\n",
      "C:\\Users\\liche\\anaconda3\\lib\\site-packages\\sklearn\\utils\\validation.py:72: DataConversionWarning: A column-vector y was passed when a 1d array was expected. Please change the shape of y to (n_samples, ), for example using ravel().\n",
      "  return f(**kwargs)\n",
      "C:\\Users\\liche\\anaconda3\\lib\\site-packages\\sklearn\\utils\\validation.py:72: DataConversionWarning: A column-vector y was passed when a 1d array was expected. Please change the shape of y to (n_samples, ), for example using ravel().\n",
      "  return f(**kwargs)\n",
      "C:\\Users\\liche\\anaconda3\\lib\\site-packages\\sklearn\\utils\\validation.py:72: DataConversionWarning: A column-vector y was passed when a 1d array was expected. Please change the shape of y to (n_samples, ), for example using ravel().\n",
      "  return f(**kwargs)\n",
      "C:\\Users\\liche\\anaconda3\\lib\\site-packages\\sklearn\\utils\\validation.py:72: DataConversionWarning: A column-vector y was passed when a 1d array was expected. Please change the shape of y to (n_samples, ), for example using ravel().\n",
      "  return f(**kwargs)\n",
      "C:\\Users\\liche\\anaconda3\\lib\\site-packages\\sklearn\\utils\\validation.py:72: DataConversionWarning: A column-vector y was passed when a 1d array was expected. Please change the shape of y to (n_samples, ), for example using ravel().\n",
      "  return f(**kwargs)\n",
      "C:\\Users\\liche\\anaconda3\\lib\\site-packages\\sklearn\\utils\\validation.py:72: DataConversionWarning: A column-vector y was passed when a 1d array was expected. Please change the shape of y to (n_samples, ), for example using ravel().\n",
      "  return f(**kwargs)\n",
      "C:\\Users\\liche\\anaconda3\\lib\\site-packages\\sklearn\\utils\\validation.py:72: DataConversionWarning: A column-vector y was passed when a 1d array was expected. Please change the shape of y to (n_samples, ), for example using ravel().\n",
      "  return f(**kwargs)\n",
      "C:\\Users\\liche\\anaconda3\\lib\\site-packages\\sklearn\\utils\\validation.py:72: DataConversionWarning: A column-vector y was passed when a 1d array was expected. Please change the shape of y to (n_samples, ), for example using ravel().\n",
      "  return f(**kwargs)\n",
      "C:\\Users\\liche\\anaconda3\\lib\\site-packages\\sklearn\\utils\\validation.py:72: DataConversionWarning: A column-vector y was passed when a 1d array was expected. Please change the shape of y to (n_samples, ), for example using ravel().\n",
      "  return f(**kwargs)\n",
      "C:\\Users\\liche\\anaconda3\\lib\\site-packages\\sklearn\\utils\\validation.py:72: DataConversionWarning: A column-vector y was passed when a 1d array was expected. Please change the shape of y to (n_samples, ), for example using ravel().\n",
      "  return f(**kwargs)\n",
      "C:\\Users\\liche\\anaconda3\\lib\\site-packages\\sklearn\\utils\\validation.py:72: DataConversionWarning: A column-vector y was passed when a 1d array was expected. Please change the shape of y to (n_samples, ), for example using ravel().\n",
      "  return f(**kwargs)\n",
      "C:\\Users\\liche\\anaconda3\\lib\\site-packages\\sklearn\\utils\\validation.py:72: DataConversionWarning: A column-vector y was passed when a 1d array was expected. Please change the shape of y to (n_samples, ), for example using ravel().\n",
      "  return f(**kwargs)\n",
      "C:\\Users\\liche\\anaconda3\\lib\\site-packages\\sklearn\\utils\\validation.py:72: DataConversionWarning: A column-vector y was passed when a 1d array was expected. Please change the shape of y to (n_samples, ), for example using ravel().\n",
      "  return f(**kwargs)\n",
      "C:\\Users\\liche\\anaconda3\\lib\\site-packages\\sklearn\\utils\\validation.py:72: DataConversionWarning: A column-vector y was passed when a 1d array was expected. Please change the shape of y to (n_samples, ), for example using ravel().\n",
      "  return f(**kwargs)\n",
      "C:\\Users\\liche\\anaconda3\\lib\\site-packages\\sklearn\\utils\\validation.py:72: DataConversionWarning: A column-vector y was passed when a 1d array was expected. Please change the shape of y to (n_samples, ), for example using ravel().\n",
      "  return f(**kwargs)\n",
      "C:\\Users\\liche\\anaconda3\\lib\\site-packages\\sklearn\\utils\\validation.py:72: DataConversionWarning: A column-vector y was passed when a 1d array was expected. Please change the shape of y to (n_samples, ), for example using ravel().\n",
      "  return f(**kwargs)\n",
      "C:\\Users\\liche\\anaconda3\\lib\\site-packages\\sklearn\\utils\\validation.py:72: DataConversionWarning: A column-vector y was passed when a 1d array was expected. Please change the shape of y to (n_samples, ), for example using ravel().\n",
      "  return f(**kwargs)\n",
      "C:\\Users\\liche\\anaconda3\\lib\\site-packages\\sklearn\\utils\\validation.py:72: DataConversionWarning: A column-vector y was passed when a 1d array was expected. Please change the shape of y to (n_samples, ), for example using ravel().\n",
      "  return f(**kwargs)\n",
      "C:\\Users\\liche\\anaconda3\\lib\\site-packages\\sklearn\\utils\\validation.py:72: DataConversionWarning: A column-vector y was passed when a 1d array was expected. Please change the shape of y to (n_samples, ), for example using ravel().\n",
      "  return f(**kwargs)\n",
      "C:\\Users\\liche\\anaconda3\\lib\\site-packages\\sklearn\\utils\\validation.py:72: DataConversionWarning: A column-vector y was passed when a 1d array was expected. Please change the shape of y to (n_samples, ), for example using ravel().\n",
      "  return f(**kwargs)\n",
      "C:\\Users\\liche\\anaconda3\\lib\\site-packages\\sklearn\\utils\\validation.py:72: DataConversionWarning: A column-vector y was passed when a 1d array was expected. Please change the shape of y to (n_samples, ), for example using ravel().\n",
      "  return f(**kwargs)\n",
      "C:\\Users\\liche\\anaconda3\\lib\\site-packages\\sklearn\\utils\\validation.py:72: DataConversionWarning: A column-vector y was passed when a 1d array was expected. Please change the shape of y to (n_samples, ), for example using ravel().\n",
      "  return f(**kwargs)\n",
      "C:\\Users\\liche\\anaconda3\\lib\\site-packages\\sklearn\\utils\\validation.py:72: DataConversionWarning: A column-vector y was passed when a 1d array was expected. Please change the shape of y to (n_samples, ), for example using ravel().\n",
      "  return f(**kwargs)\n",
      "C:\\Users\\liche\\anaconda3\\lib\\site-packages\\sklearn\\utils\\validation.py:72: DataConversionWarning: A column-vector y was passed when a 1d array was expected. Please change the shape of y to (n_samples, ), for example using ravel().\n",
      "  return f(**kwargs)\n",
      "C:\\Users\\liche\\anaconda3\\lib\\site-packages\\sklearn\\utils\\validation.py:72: DataConversionWarning: A column-vector y was passed when a 1d array was expected. Please change the shape of y to (n_samples, ), for example using ravel().\n",
      "  return f(**kwargs)\n",
      "C:\\Users\\liche\\anaconda3\\lib\\site-packages\\sklearn\\utils\\validation.py:72: DataConversionWarning: A column-vector y was passed when a 1d array was expected. Please change the shape of y to (n_samples, ), for example using ravel().\n",
      "  return f(**kwargs)\n",
      "C:\\Users\\liche\\anaconda3\\lib\\site-packages\\sklearn\\utils\\validation.py:72: DataConversionWarning: A column-vector y was passed when a 1d array was expected. Please change the shape of y to (n_samples, ), for example using ravel().\n",
      "  return f(**kwargs)\n",
      "C:\\Users\\liche\\anaconda3\\lib\\site-packages\\sklearn\\utils\\validation.py:72: DataConversionWarning: A column-vector y was passed when a 1d array was expected. Please change the shape of y to (n_samples, ), for example using ravel().\n",
      "  return f(**kwargs)\n",
      "C:\\Users\\liche\\anaconda3\\lib\\site-packages\\sklearn\\utils\\validation.py:72: DataConversionWarning: A column-vector y was passed when a 1d array was expected. Please change the shape of y to (n_samples, ), for example using ravel().\n",
      "  return f(**kwargs)\n",
      "C:\\Users\\liche\\anaconda3\\lib\\site-packages\\sklearn\\utils\\validation.py:72: DataConversionWarning: A column-vector y was passed when a 1d array was expected. Please change the shape of y to (n_samples, ), for example using ravel().\n",
      "  return f(**kwargs)\n",
      "C:\\Users\\liche\\anaconda3\\lib\\site-packages\\sklearn\\utils\\validation.py:72: DataConversionWarning: A column-vector y was passed when a 1d array was expected. Please change the shape of y to (n_samples, ), for example using ravel().\n",
      "  return f(**kwargs)\n",
      "C:\\Users\\liche\\anaconda3\\lib\\site-packages\\sklearn\\utils\\validation.py:72: DataConversionWarning: A column-vector y was passed when a 1d array was expected. Please change the shape of y to (n_samples, ), for example using ravel().\n",
      "  return f(**kwargs)\n",
      "C:\\Users\\liche\\anaconda3\\lib\\site-packages\\sklearn\\utils\\validation.py:72: DataConversionWarning: A column-vector y was passed when a 1d array was expected. Please change the shape of y to (n_samples, ), for example using ravel().\n",
      "  return f(**kwargs)\n",
      "C:\\Users\\liche\\anaconda3\\lib\\site-packages\\sklearn\\utils\\validation.py:72: DataConversionWarning: A column-vector y was passed when a 1d array was expected. Please change the shape of y to (n_samples, ), for example using ravel().\n",
      "  return f(**kwargs)\n",
      "C:\\Users\\liche\\anaconda3\\lib\\site-packages\\sklearn\\utils\\validation.py:72: DataConversionWarning: A column-vector y was passed when a 1d array was expected. Please change the shape of y to (n_samples, ), for example using ravel().\n",
      "  return f(**kwargs)\n",
      "C:\\Users\\liche\\anaconda3\\lib\\site-packages\\sklearn\\utils\\validation.py:72: DataConversionWarning: A column-vector y was passed when a 1d array was expected. Please change the shape of y to (n_samples, ), for example using ravel().\n",
      "  return f(**kwargs)\n",
      "C:\\Users\\liche\\anaconda3\\lib\\site-packages\\sklearn\\utils\\validation.py:72: DataConversionWarning: A column-vector y was passed when a 1d array was expected. Please change the shape of y to (n_samples, ), for example using ravel().\n",
      "  return f(**kwargs)\n",
      "C:\\Users\\liche\\anaconda3\\lib\\site-packages\\sklearn\\utils\\validation.py:72: DataConversionWarning: A column-vector y was passed when a 1d array was expected. Please change the shape of y to (n_samples, ), for example using ravel().\n",
      "  return f(**kwargs)\n",
      "C:\\Users\\liche\\anaconda3\\lib\\site-packages\\sklearn\\utils\\validation.py:72: DataConversionWarning: A column-vector y was passed when a 1d array was expected. Please change the shape of y to (n_samples, ), for example using ravel().\n",
      "  return f(**kwargs)\n",
      "C:\\Users\\liche\\anaconda3\\lib\\site-packages\\sklearn\\utils\\validation.py:72: DataConversionWarning: A column-vector y was passed when a 1d array was expected. Please change the shape of y to (n_samples, ), for example using ravel().\n",
      "  return f(**kwargs)\n",
      "C:\\Users\\liche\\anaconda3\\lib\\site-packages\\sklearn\\utils\\validation.py:72: DataConversionWarning: A column-vector y was passed when a 1d array was expected. Please change the shape of y to (n_samples, ), for example using ravel().\n",
      "  return f(**kwargs)\n",
      "C:\\Users\\liche\\anaconda3\\lib\\site-packages\\sklearn\\utils\\validation.py:72: DataConversionWarning: A column-vector y was passed when a 1d array was expected. Please change the shape of y to (n_samples, ), for example using ravel().\n",
      "  return f(**kwargs)\n",
      "C:\\Users\\liche\\anaconda3\\lib\\site-packages\\sklearn\\utils\\validation.py:72: DataConversionWarning: A column-vector y was passed when a 1d array was expected. Please change the shape of y to (n_samples, ), for example using ravel().\n",
      "  return f(**kwargs)\n",
      "C:\\Users\\liche\\anaconda3\\lib\\site-packages\\sklearn\\utils\\validation.py:72: DataConversionWarning: A column-vector y was passed when a 1d array was expected. Please change the shape of y to (n_samples, ), for example using ravel().\n",
      "  return f(**kwargs)\n",
      "C:\\Users\\liche\\anaconda3\\lib\\site-packages\\sklearn\\utils\\validation.py:72: DataConversionWarning: A column-vector y was passed when a 1d array was expected. Please change the shape of y to (n_samples, ), for example using ravel().\n",
      "  return f(**kwargs)\n",
      "C:\\Users\\liche\\anaconda3\\lib\\site-packages\\sklearn\\utils\\validation.py:72: DataConversionWarning: A column-vector y was passed when a 1d array was expected. Please change the shape of y to (n_samples, ), for example using ravel().\n",
      "  return f(**kwargs)\n",
      "C:\\Users\\liche\\anaconda3\\lib\\site-packages\\sklearn\\utils\\validation.py:72: DataConversionWarning: A column-vector y was passed when a 1d array was expected. Please change the shape of y to (n_samples, ), for example using ravel().\n",
      "  return f(**kwargs)\n",
      "C:\\Users\\liche\\anaconda3\\lib\\site-packages\\sklearn\\utils\\validation.py:72: DataConversionWarning: A column-vector y was passed when a 1d array was expected. Please change the shape of y to (n_samples, ), for example using ravel().\n",
      "  return f(**kwargs)\n",
      "C:\\Users\\liche\\anaconda3\\lib\\site-packages\\sklearn\\utils\\validation.py:72: DataConversionWarning: A column-vector y was passed when a 1d array was expected. Please change the shape of y to (n_samples, ), for example using ravel().\n",
      "  return f(**kwargs)\n",
      "C:\\Users\\liche\\anaconda3\\lib\\site-packages\\sklearn\\utils\\validation.py:72: DataConversionWarning: A column-vector y was passed when a 1d array was expected. Please change the shape of y to (n_samples, ), for example using ravel().\n",
      "  return f(**kwargs)\n",
      "C:\\Users\\liche\\anaconda3\\lib\\site-packages\\sklearn\\utils\\validation.py:72: DataConversionWarning: A column-vector y was passed when a 1d array was expected. Please change the shape of y to (n_samples, ), for example using ravel().\n",
      "  return f(**kwargs)\n",
      "C:\\Users\\liche\\anaconda3\\lib\\site-packages\\sklearn\\utils\\validation.py:72: DataConversionWarning: A column-vector y was passed when a 1d array was expected. Please change the shape of y to (n_samples, ), for example using ravel().\n",
      "  return f(**kwargs)\n",
      "C:\\Users\\liche\\anaconda3\\lib\\site-packages\\sklearn\\utils\\validation.py:72: DataConversionWarning: A column-vector y was passed when a 1d array was expected. Please change the shape of y to (n_samples, ), for example using ravel().\n",
      "  return f(**kwargs)\n",
      "C:\\Users\\liche\\anaconda3\\lib\\site-packages\\sklearn\\utils\\validation.py:72: DataConversionWarning: A column-vector y was passed when a 1d array was expected. Please change the shape of y to (n_samples, ), for example using ravel().\n",
      "  return f(**kwargs)\n",
      "C:\\Users\\liche\\anaconda3\\lib\\site-packages\\sklearn\\utils\\validation.py:72: DataConversionWarning: A column-vector y was passed when a 1d array was expected. Please change the shape of y to (n_samples, ), for example using ravel().\n",
      "  return f(**kwargs)\n",
      "C:\\Users\\liche\\anaconda3\\lib\\site-packages\\sklearn\\utils\\validation.py:72: DataConversionWarning: A column-vector y was passed when a 1d array was expected. Please change the shape of y to (n_samples, ), for example using ravel().\n",
      "  return f(**kwargs)\n",
      "C:\\Users\\liche\\anaconda3\\lib\\site-packages\\sklearn\\utils\\validation.py:72: DataConversionWarning: A column-vector y was passed when a 1d array was expected. Please change the shape of y to (n_samples, ), for example using ravel().\n",
      "  return f(**kwargs)\n",
      "C:\\Users\\liche\\anaconda3\\lib\\site-packages\\sklearn\\utils\\validation.py:72: DataConversionWarning: A column-vector y was passed when a 1d array was expected. Please change the shape of y to (n_samples, ), for example using ravel().\n",
      "  return f(**kwargs)\n",
      "[Parallel(n_jobs=1)]: Done  60 out of  60 | elapsed: 12.1min finished\n",
      "C:\\Users\\liche\\anaconda3\\lib\\site-packages\\sklearn\\utils\\validation.py:72: DataConversionWarning: A column-vector y was passed when a 1d array was expected. Please change the shape of y to (n_samples, ), for example using ravel().\n",
      "  return f(**kwargs)\n"
     ]
    },
    {
     "name": "stdout",
     "output_type": "stream",
     "text": [
      "Best Model Parameters: {'learning_rate': 0.1, 'max_depth': 5, 'n_estimators': 150}\n",
      "Mean Squared Error: 0.786118002371307\n"
     ]
    }
   ],
   "source": [
    "from sklearn.datasets import load_boston\n",
    "from sklearn.model_selection import train_test_split, GridSearchCV\n",
    "from sklearn.ensemble import GradientBoostingRegressor\n",
    "from sklearn.metrics import mean_squared_error\n",
    "from sklearn.preprocessing import StandardScaler\n",
    "\n",
    "# Load the Boston housing dataset (example dataset)\n",
    "X = pi  # Your dataset\n",
    "y = eui  # Your target array\n",
    "\n",
    "# Split the dataset into train and test sets\n",
    "X_train, X_test, y_train, y_test = train_test_split(X_scaled, y, test_size=0.5, random_state=42)\n",
    "\n",
    "# Initialize the Gradient Boosting Regressor\n",
    "gb_reg = GradientBoostingRegressor()\n",
    "\n",
    "# Define the hyperparameters grid\n",
    "param_grid = {\n",
    "    'n_estimators': [100, 150],\n",
    "    'learning_rate': [0.01, 0.1, 1],\n",
    "    'max_depth': [4, 5]\n",
    "}\n",
    "\n",
    "# Perform grid search cross-validation\n",
    "grid_search = GridSearchCV(estimator=gb_reg, param_grid=param_grid, cv=5, scoring='neg_mean_squared_error', verbose=1)\n",
    "grid_search.fit(X_train, y_train)\n",
    "\n",
    "# Get the best model\n",
    "best_model = grid_search.best_estimator_\n",
    "\n",
    "# Make predictions\n",
    "predictions = best_model.predict(X_test)\n",
    "\n",
    "# Evaluate the model\n",
    "mse = mean_squared_error(y_test, predictions)\n",
    "print(\"Best Model Parameters:\", grid_search.best_params_)\n",
    "print(\"Mean Squared Error:\", mse)\n"
   ]
  },
  {
   "cell_type": "code",
   "execution_count": 88,
   "metadata": {},
   "outputs": [
    {
     "data": {
      "text/plain": [
       "<matplotlib.collections.PathCollection at 0x2c50d2e03a0>"
      ]
     },
     "execution_count": 88,
     "metadata": {},
     "output_type": "execute_result"
    },
    {
     "data": {
      "image/png": "[encoded data removed]",
      "text/plain": [
       "<Figure size 432x288 with 1 Axes>"
      ]
     },
     "metadata": {
      "needs_background": "light"
     },
     "output_type": "display_data"
    }
   ],
   "source": [
    "plt.scatter(predictions, y_test)"
   ]
  },
  {
   "cell_type": "code",
   "execution_count": 89,
   "metadata": {},
   "outputs": [
    {
     "data": {
      "text/plain": [
       "(-0.3551003089597176, -0.786118002371307)"
      ]
     },
     "execution_count": 89,
     "metadata": {},
     "output_type": "execute_result"
    }
   ],
   "source": [
    "grid_search.score(X_train, y_train), grid_search.score(X_test, y_test)"
   ]
  },
  {
   "cell_type": "code",
   "execution_count": null,
   "metadata": {},
   "outputs": [],
   "source": []
  }
 ],
 "metadata": {
  "kernelspec": {
   "display_name": "Python 3",
   "language": "python",
   "name": "python3"
  },
  "language_info": {
   "codemirror_mode": {
    "name": "ipython",
    "version": 3
   },
   "file_extension": ".py",
   "mimetype": "text/x-python",
   "name": "python",
   "nbconvert_exporter": "python",
   "pygments_lexer": "ipython3",
   "version": "3.8.5"
  }
 },
 "nbformat": 4,
 "nbformat_minor": 4
}
