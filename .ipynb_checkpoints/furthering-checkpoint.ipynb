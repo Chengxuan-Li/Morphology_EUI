{
 "cells": [
  {
   "cell_type": "code",
   "execution_count": 1,
   "metadata": {},
   "outputs": [],
   "source": [
    "from tensorflow.keras.models import Sequential\n",
    "from tensorflow.keras.layers import Dense"
   ]
  },
  {
   "cell_type": "code",
   "execution_count": 3,
   "metadata": {},
   "outputs": [
    {
     "name": "stderr",
     "output_type": "stream",
     "text": [
      "C:\\Users\\liche\\anaconda3\\lib\\site-packages\\geopandas\\_compat.py:124: UserWarning: The Shapely GEOS version (3.11.2-CAPI-1.17.2) is incompatible with the GEOS version PyGEOS was compiled with (3.10.4-CAPI-1.16.2). Conversions between both will be slow.\n",
      "  warnings.warn(\n",
      "<ipython-input-3-5d0e6c2d292a>:6: DeprecationWarning: Shapely 2.0 is installed, but because PyGEOS is also installed, GeoPandas still uses PyGEOS by default. However, starting with version 0.14, the default will switch to Shapely. To force to use Shapely 2.0 now, you can either uninstall PyGEOS or set the environment variable USE_PYGEOS=0. You can do this before starting the Python process, or in your code before importing geopandas:\n",
      "\n",
      "import os\n",
      "os.environ['USE_PYGEOS'] = '0'\n",
      "import geopandas\n",
      "\n",
      "In the next release, GeoPandas will switch to using Shapely by default, even if PyGEOS is installed. If you only have PyGEOS installed to get speed-ups, this switch should be smooth. However, if you are using PyGEOS directly (calling PyGEOS functions on geometries from GeoPandas), this will then stop working and you are encouraged to migrate from PyGEOS to Shapely 2.0 (https://shapely.readthedocs.io/en/latest/migration_pygeos.html).\n",
      "  import geopandas as gpd\n"
     ]
    }
   ],
   "source": [
    "import numpy as np\n",
    "from sklearn.decomposition import PCA\n",
    "import pandas as pd\n",
    "import warnings\n",
    "\n",
    "import geopandas as gpd\n",
    "import libpysal\n",
    "import mapclassify\n",
    "import matplotlib.pyplot as plt\n",
    "import momepy as mm\n",
    "\n",
    "import scipy as sp\n",
    "import seaborn as sns\n",
    "\n",
    "from tqdm.auto import tqdm\n",
    "from sklearn import preprocessing\n",
    "from sklearn.mixture import GaussianMixture\n",
    "from scipy.cluster import hierarchy"
   ]
  },
  {
   "cell_type": "code",
   "execution_count": 4,
   "metadata": {},
   "outputs": [],
   "source": [
    "data = pd.read_csv(\"files/attr/raw_dataset.csv\")"
   ]
  },
  {
   "cell_type": "code",
   "execution_count": 5,
   "metadata": {},
   "outputs": [
    {
     "data": {
      "text/plain": [
       "Index(['Unnamed: 0', 'property_area', 'building_area', 'height',\n",
       "       'TotalFloor_sum', 'floor_area', 'sdbAre', 'sdbVol', 'sdbPer', 'sdbCoA',\n",
       "       'ssbFoF', 'ssbVFR', 'ssbCCo', 'ssbCor', 'ssbSqu', 'ssbERI', 'ssbElo',\n",
       "       'ssbCCM', 'ssbCCD', 'stbOri', 'stbCeA', 'mtbSWR', 'mtbAli', 'mtbNDi',\n",
       "       'libNCo', 'ldbPWL', 'ltcBuA', 'stbSAl', 'stcOri', 'sdcLAL', 'sdcAre',\n",
       "       'sscCCo', 'sscERI', 'mtcWNe', 'mdcAre', 'licGDe', 'ltcWRB', 'sicCAR',\n",
       "       'sicFAR', 'stcSAl', 'ldkAre', 'ldkPer', 'lskCCo', 'lskERI', 'lskCWA',\n",
       "       'ltkOri', 'ltkWNB', 'likWBB', 'sdsLen', 'sdsSPW', 'sdsSPH', 'sdsSPR',\n",
       "       'sdsSPO', 'sdsSWD', 'sdsSHD', 'sdsAre', 'sisBpM', 'misRea', 'mdsAre',\n",
       "       'mm_len', 'cdsbool', 'node_start', 'node_end', 'ldsMSL', 'ldsRea',\n",
       "       'mtdDeg', 'lcdMes', 'linP3W', 'linP4W', 'linPDE', 'lcnClo', 'ldsCDL',\n",
       "       'xcnSCl', 'mtdMDi', 'lddNDe', 'linWID', 'lddRea', 'lddARe', 'sddAre',\n",
       "       'midRea', 'midAre', 'EUI'],\n",
       "      dtype='object')"
      ]
     },
     "execution_count": 5,
     "metadata": {},
     "output_type": "execute_result"
    }
   ],
   "source": [
    "data.columns"
   ]
  },
  {
   "cell_type": "code",
   "execution_count": 6,
   "metadata": {},
   "outputs": [],
   "source": [
    "pa = data.drop(columns=\n",
    "              [\"Unnamed: 0\"]\n",
    "              )"
   ]
  },
  {
   "cell_type": "code",
   "execution_count": 7,
   "metadata": {},
   "outputs": [],
   "source": [
    "x = pa.values\n",
    "scaler = preprocessing.StandardScaler()\n",
    "cols = list(pa.columns)\n",
    "pa[cols] = scaler.fit_transform(pa[cols])"
   ]
  },
  {
   "cell_type": "code",
   "execution_count": 8,
   "metadata": {},
   "outputs": [],
   "source": [
    "y = data[\"EUI\"].values\n",
    "scaler = preprocessing.StandardScaler()\n",
    "cols = list([\"EUI\"])\n",
    "eui = scaler.fit_transform(data[cols])"
   ]
  },
  {
   "cell_type": "code",
   "execution_count": 86,
   "metadata": {},
   "outputs": [
    {
     "data": {
      "text/plain": [
       "946.0"
      ]
     },
     "execution_count": 86,
     "metadata": {},
     "output_type": "execute_result"
    }
   ],
   "source": [
    "y = data[\"EUI\"].values\n",
    "np.max(y)"
   ]
  },
  {
   "cell_type": "code",
   "execution_count": 91,
   "metadata": {},
   "outputs": [
    {
     "data": {
      "text/plain": [
       "(array([4.500e+01, 4.600e+02, 1.721e+03, 1.991e+03, 2.157e+03, 2.034e+03,\n",
       "        1.687e+03, 1.068e+03, 6.830e+02, 3.910e+02, 2.550e+02, 1.850e+02,\n",
       "        1.150e+02, 7.800e+01, 6.300e+01, 2.500e+01, 1.400e+01, 8.000e+00,\n",
       "        7.000e+00, 6.000e+00, 7.000e+00, 0.000e+00, 0.000e+00, 1.000e+00,\n",
       "        0.000e+00, 1.000e+00, 3.000e+00, 0.000e+00, 0.000e+00, 1.000e+00,\n",
       "        0.000e+00, 0.000e+00, 1.000e+00, 2.000e+00, 0.000e+00, 1.000e+00]),\n",
       " array([  1.  ,  27.25,  53.5 ,  79.75, 106.  , 132.25, 158.5 , 184.75,\n",
       "        211.  , 237.25, 263.5 , 289.75, 316.  , 342.25, 368.5 , 394.75,\n",
       "        421.  , 447.25, 473.5 , 499.75, 526.  , 552.25, 578.5 , 604.75,\n",
       "        631.  , 657.25, 683.5 , 709.75, 736.  , 762.25, 788.5 , 814.75,\n",
       "        841.  , 867.25, 893.5 , 919.75, 946.  ]),\n",
       " <BarContainer object of 36 artists>)"
      ]
     },
     "execution_count": 91,
     "metadata": {},
     "output_type": "execute_result"
    },
    {
     "data": {
      "image/png": "[encoded data removed]",
      "text/plain": [
       "<Figure size 432x288 with 1 Axes>"
      ]
     },
     "metadata": {
      "needs_background": "light"
     },
     "output_type": "display_data"
    }
   ],
   "source": [
    "plt.hist(y, bins=36)"
   ]
  },
  {
   "cell_type": "code",
   "execution_count": 92,
   "metadata": {},
   "outputs": [],
   "source": [
    "eui = y/1000;"
   ]
  },
  {
   "cell_type": "code",
   "execution_count": 93,
   "metadata": {},
   "outputs": [
    {
     "data": {
      "text/plain": [
       "array([0.1415062 , 0.13268486, 0.094     , ..., 0.058     , 0.334     ,\n",
       "       0.20803986])"
      ]
     },
     "execution_count": 93,
     "metadata": {},
     "output_type": "execute_result"
    }
   ],
   "source": [
    "eui"
   ]
  },
  {
   "cell_type": "code",
   "execution_count": 10,
   "metadata": {},
   "outputs": [
    {
     "data": {
      "text/html": [
       "<div>\n",
       "<style scoped>\n",
       "    .dataframe tbody tr th:only-of-type {\n",
       "        vertical-align: middle;\n",
       "    }\n",
       "\n",
       "    .dataframe tbody tr th {\n",
       "        vertical-align: top;\n",
       "    }\n",
       "\n",
       "    .dataframe thead th {\n",
       "        text-align: right;\n",
       "    }\n",
       "</style>\n",
       "<table border=\"1\" class=\"dataframe\">\n",
       "  <thead>\n",
       "    <tr style=\"text-align: right;\">\n",
       "      <th></th>\n",
       "      <th>property_area</th>\n",
       "      <th>building_area</th>\n",
       "      <th>height</th>\n",
       "      <th>TotalFloor_sum</th>\n",
       "      <th>floor_area</th>\n",
       "      <th>sdbAre</th>\n",
       "      <th>sdbVol</th>\n",
       "      <th>sdbPer</th>\n",
       "      <th>sdbCoA</th>\n",
       "      <th>ssbFoF</th>\n",
       "      <th>...</th>\n",
       "      <th>xcnSCl</th>\n",
       "      <th>mtdMDi</th>\n",
       "      <th>lddNDe</th>\n",
       "      <th>linWID</th>\n",
       "      <th>lddRea</th>\n",
       "      <th>lddARe</th>\n",
       "      <th>sddAre</th>\n",
       "      <th>midRea</th>\n",
       "      <th>midAre</th>\n",
       "      <th>EUI</th>\n",
       "    </tr>\n",
       "  </thead>\n",
       "  <tbody>\n",
       "    <tr>\n",
       "      <th>0</th>\n",
       "      <td>-0.388048</td>\n",
       "      <td>0.655231</td>\n",
       "      <td>-0.040547</td>\n",
       "      <td>-0.170919</td>\n",
       "      <td>-0.199758</td>\n",
       "      <td>-0.388089</td>\n",
       "      <td>-0.199758</td>\n",
       "      <td>-0.534065</td>\n",
       "      <td>-0.038657</td>\n",
       "      <td>-0.264236</td>\n",
       "      <td>...</td>\n",
       "      <td>-0.252721</td>\n",
       "      <td>0.161096</td>\n",
       "      <td>-0.329000</td>\n",
       "      <td>-0.380027</td>\n",
       "      <td>-0.610350</td>\n",
       "      <td>-0.629053</td>\n",
       "      <td>-0.476143</td>\n",
       "      <td>-0.432656</td>\n",
       "      <td>-0.594408</td>\n",
       "      <td>-0.040789</td>\n",
       "    </tr>\n",
       "    <tr>\n",
       "      <th>1</th>\n",
       "      <td>-0.387378</td>\n",
       "      <td>-0.759693</td>\n",
       "      <td>-0.312311</td>\n",
       "      <td>-0.248280</td>\n",
       "      <td>-0.203895</td>\n",
       "      <td>-0.387421</td>\n",
       "      <td>-0.203895</td>\n",
       "      <td>-0.539342</td>\n",
       "      <td>-0.038657</td>\n",
       "      <td>-0.668532</td>\n",
       "      <td>...</td>\n",
       "      <td>-0.252721</td>\n",
       "      <td>-0.552738</td>\n",
       "      <td>0.232420</td>\n",
       "      <td>-0.233054</td>\n",
       "      <td>-0.719997</td>\n",
       "      <td>-0.105915</td>\n",
       "      <td>-0.226094</td>\n",
       "      <td>-0.772294</td>\n",
       "      <td>-0.554770</td>\n",
       "      <td>-0.164736</td>\n",
       "    </tr>\n",
       "    <tr>\n",
       "      <th>2</th>\n",
       "      <td>-0.382245</td>\n",
       "      <td>-0.844426</td>\n",
       "      <td>-0.312311</td>\n",
       "      <td>-0.302311</td>\n",
       "      <td>-0.202653</td>\n",
       "      <td>-0.382319</td>\n",
       "      <td>-0.202653</td>\n",
       "      <td>-0.522851</td>\n",
       "      <td>-0.038657</td>\n",
       "      <td>-0.606741</td>\n",
       "      <td>...</td>\n",
       "      <td>-0.252721</td>\n",
       "      <td>-0.651104</td>\n",
       "      <td>-0.191889</td>\n",
       "      <td>-0.153822</td>\n",
       "      <td>0.198946</td>\n",
       "      <td>-0.238075</td>\n",
       "      <td>0.517573</td>\n",
       "      <td>-0.202187</td>\n",
       "      <td>-0.039909</td>\n",
       "      <td>-0.708290</td>\n",
       "    </tr>\n",
       "    <tr>\n",
       "      <th>3</th>\n",
       "      <td>-0.388717</td>\n",
       "      <td>-0.740396</td>\n",
       "      <td>-0.380252</td>\n",
       "      <td>-0.233917</td>\n",
       "      <td>-0.205262</td>\n",
       "      <td>-0.388649</td>\n",
       "      <td>-0.205262</td>\n",
       "      <td>-0.537023</td>\n",
       "      <td>-0.038657</td>\n",
       "      <td>-0.648089</td>\n",
       "      <td>...</td>\n",
       "      <td>-0.252721</td>\n",
       "      <td>5.245467</td>\n",
       "      <td>-0.421118</td>\n",
       "      <td>-0.448519</td>\n",
       "      <td>-0.197870</td>\n",
       "      <td>-0.330851</td>\n",
       "      <td>0.117119</td>\n",
       "      <td>-0.226447</td>\n",
       "      <td>-0.340032</td>\n",
       "      <td>-0.522169</td>\n",
       "    </tr>\n",
       "    <tr>\n",
       "      <th>4</th>\n",
       "      <td>-0.361712</td>\n",
       "      <td>-0.578040</td>\n",
       "      <td>0.163276</td>\n",
       "      <td>-0.143071</td>\n",
       "      <td>-0.187791</td>\n",
       "      <td>-0.361776</td>\n",
       "      <td>-0.187791</td>\n",
       "      <td>-0.489363</td>\n",
       "      <td>-0.038657</td>\n",
       "      <td>-0.396540</td>\n",
       "      <td>...</td>\n",
       "      <td>-0.252721</td>\n",
       "      <td>-0.158526</td>\n",
       "      <td>-0.256392</td>\n",
       "      <td>0.136628</td>\n",
       "      <td>-0.683448</td>\n",
       "      <td>-0.527792</td>\n",
       "      <td>-0.522068</td>\n",
       "      <td>-0.735905</td>\n",
       "      <td>-0.683073</td>\n",
       "      <td>-0.039784</td>\n",
       "    </tr>\n",
       "    <tr>\n",
       "      <th>...</th>\n",
       "      <td>...</td>\n",
       "      <td>...</td>\n",
       "      <td>...</td>\n",
       "      <td>...</td>\n",
       "      <td>...</td>\n",
       "      <td>...</td>\n",
       "      <td>...</td>\n",
       "      <td>...</td>\n",
       "      <td>...</td>\n",
       "      <td>...</td>\n",
       "      <td>...</td>\n",
       "      <td>...</td>\n",
       "      <td>...</td>\n",
       "      <td>...</td>\n",
       "      <td>...</td>\n",
       "      <td>...</td>\n",
       "      <td>...</td>\n",
       "      <td>...</td>\n",
       "      <td>...</td>\n",
       "      <td>...</td>\n",
       "      <td>...</td>\n",
       "    </tr>\n",
       "    <tr>\n",
       "      <th>13005</th>\n",
       "      <td>0.160317</td>\n",
       "      <td>1.423124</td>\n",
       "      <td>0.706803</td>\n",
       "      <td>0.006567</td>\n",
       "      <td>0.049957</td>\n",
       "      <td>0.160426</td>\n",
       "      <td>0.049957</td>\n",
       "      <td>0.261946</td>\n",
       "      <td>-0.038657</td>\n",
       "      <td>-0.083134</td>\n",
       "      <td>...</td>\n",
       "      <td>0.715334</td>\n",
       "      <td>-0.228352</td>\n",
       "      <td>-0.465375</td>\n",
       "      <td>-0.357541</td>\n",
       "      <td>3.953038</td>\n",
       "      <td>4.524751</td>\n",
       "      <td>3.212422</td>\n",
       "      <td>3.897735</td>\n",
       "      <td>4.697704</td>\n",
       "      <td>1.867627</td>\n",
       "    </tr>\n",
       "    <tr>\n",
       "      <th>13006</th>\n",
       "      <td>-0.158168</td>\n",
       "      <td>-0.611265</td>\n",
       "      <td>-1.209132</td>\n",
       "      <td>-0.298781</td>\n",
       "      <td>-0.200759</td>\n",
       "      <td>-0.158238</td>\n",
       "      <td>-0.200759</td>\n",
       "      <td>-0.056454</td>\n",
       "      <td>-0.038657</td>\n",
       "      <td>-0.357146</td>\n",
       "      <td>...</td>\n",
       "      <td>-0.252721</td>\n",
       "      <td>-0.385980</td>\n",
       "      <td>0.288781</td>\n",
       "      <td>-0.865527</td>\n",
       "      <td>-0.599908</td>\n",
       "      <td>-0.416104</td>\n",
       "      <td>0.762756</td>\n",
       "      <td>-0.408396</td>\n",
       "      <td>-0.069555</td>\n",
       "      <td>-1.259873</td>\n",
       "    </tr>\n",
       "    <tr>\n",
       "      <th>13007</th>\n",
       "      <td>-0.367738</td>\n",
       "      <td>-0.839711</td>\n",
       "      <td>-0.190018</td>\n",
       "      <td>-0.318638</td>\n",
       "      <td>-0.196699</td>\n",
       "      <td>-0.367723</td>\n",
       "      <td>-0.196699</td>\n",
       "      <td>-0.477557</td>\n",
       "      <td>-0.038657</td>\n",
       "      <td>-0.330595</td>\n",
       "      <td>...</td>\n",
       "      <td>-0.252721</td>\n",
       "      <td>-0.545190</td>\n",
       "      <td>0.670593</td>\n",
       "      <td>-0.865527</td>\n",
       "      <td>-0.840086</td>\n",
       "      <td>-0.695951</td>\n",
       "      <td>-0.642899</td>\n",
       "      <td>-0.966373</td>\n",
       "      <td>-0.759290</td>\n",
       "      <td>-1.214121</td>\n",
       "    </tr>\n",
       "    <tr>\n",
       "      <th>13008</th>\n",
       "      <td>-0.255253</td>\n",
       "      <td>-0.276541</td>\n",
       "      <td>-0.162841</td>\n",
       "      <td>-0.317491</td>\n",
       "      <td>-0.165649</td>\n",
       "      <td>-0.255271</td>\n",
       "      <td>-0.165649</td>\n",
       "      <td>-0.180787</td>\n",
       "      <td>-0.038657</td>\n",
       "      <td>0.326850</td>\n",
       "      <td>...</td>\n",
       "      <td>-0.252721</td>\n",
       "      <td>-0.424699</td>\n",
       "      <td>0.357239</td>\n",
       "      <td>-0.865527</td>\n",
       "      <td>0.172840</td>\n",
       "      <td>-0.329531</td>\n",
       "      <td>-0.298738</td>\n",
       "      <td>1.386836</td>\n",
       "      <td>0.143819</td>\n",
       "      <td>2.663911</td>\n",
       "    </tr>\n",
       "    <tr>\n",
       "      <th>13009</th>\n",
       "      <td>1.389171</td>\n",
       "      <td>3.497196</td>\n",
       "      <td>0.516569</td>\n",
       "      <td>0.505803</td>\n",
       "      <td>0.516753</td>\n",
       "      <td>1.389184</td>\n",
       "      <td>0.516753</td>\n",
       "      <td>1.137169</td>\n",
       "      <td>-0.038657</td>\n",
       "      <td>-0.471878</td>\n",
       "      <td>...</td>\n",
       "      <td>5.027576</td>\n",
       "      <td>0.175589</td>\n",
       "      <td>-0.261098</td>\n",
       "      <td>0.804972</td>\n",
       "      <td>-0.584244</td>\n",
       "      <td>-0.445079</td>\n",
       "      <td>-0.274849</td>\n",
       "      <td>-0.335616</td>\n",
       "      <td>-0.223792</td>\n",
       "      <td>0.894065</td>\n",
       "    </tr>\n",
       "  </tbody>\n",
       "</table>\n",
       "<p>13010 rows × 81 columns</p>\n",
       "</div>"
      ],
      "text/plain": [
       "       property_area  building_area    height  TotalFloor_sum  floor_area  \\\n",
       "0          -0.388048       0.655231 -0.040547       -0.170919   -0.199758   \n",
       "1          -0.387378      -0.759693 -0.312311       -0.248280   -0.203895   \n",
       "2          -0.382245      -0.844426 -0.312311       -0.302311   -0.202653   \n",
       "3          -0.388717      -0.740396 -0.380252       -0.233917   -0.205262   \n",
       "4          -0.361712      -0.578040  0.163276       -0.143071   -0.187791   \n",
       "...              ...            ...       ...             ...         ...   \n",
       "13005       0.160317       1.423124  0.706803        0.006567    0.049957   \n",
       "13006      -0.158168      -0.611265 -1.209132       -0.298781   -0.200759   \n",
       "13007      -0.367738      -0.839711 -0.190018       -0.318638   -0.196699   \n",
       "13008      -0.255253      -0.276541 -0.162841       -0.317491   -0.165649   \n",
       "13009       1.389171       3.497196  0.516569        0.505803    0.516753   \n",
       "\n",
       "         sdbAre    sdbVol    sdbPer    sdbCoA    ssbFoF  ...    xcnSCl  \\\n",
       "0     -0.388089 -0.199758 -0.534065 -0.038657 -0.264236  ... -0.252721   \n",
       "1     -0.387421 -0.203895 -0.539342 -0.038657 -0.668532  ... -0.252721   \n",
       "2     -0.382319 -0.202653 -0.522851 -0.038657 -0.606741  ... -0.252721   \n",
       "3     -0.388649 -0.205262 -0.537023 -0.038657 -0.648089  ... -0.252721   \n",
       "4     -0.361776 -0.187791 -0.489363 -0.038657 -0.396540  ... -0.252721   \n",
       "...         ...       ...       ...       ...       ...  ...       ...   \n",
       "13005  0.160426  0.049957  0.261946 -0.038657 -0.083134  ...  0.715334   \n",
       "13006 -0.158238 -0.200759 -0.056454 -0.038657 -0.357146  ... -0.252721   \n",
       "13007 -0.367723 -0.196699 -0.477557 -0.038657 -0.330595  ... -0.252721   \n",
       "13008 -0.255271 -0.165649 -0.180787 -0.038657  0.326850  ... -0.252721   \n",
       "13009  1.389184  0.516753  1.137169 -0.038657 -0.471878  ...  5.027576   \n",
       "\n",
       "         mtdMDi    lddNDe    linWID    lddRea    lddARe    sddAre    midRea  \\\n",
       "0      0.161096 -0.329000 -0.380027 -0.610350 -0.629053 -0.476143 -0.432656   \n",
       "1     -0.552738  0.232420 -0.233054 -0.719997 -0.105915 -0.226094 -0.772294   \n",
       "2     -0.651104 -0.191889 -0.153822  0.198946 -0.238075  0.517573 -0.202187   \n",
       "3      5.245467 -0.421118 -0.448519 -0.197870 -0.330851  0.117119 -0.226447   \n",
       "4     -0.158526 -0.256392  0.136628 -0.683448 -0.527792 -0.522068 -0.735905   \n",
       "...         ...       ...       ...       ...       ...       ...       ...   \n",
       "13005 -0.228352 -0.465375 -0.357541  3.953038  4.524751  3.212422  3.897735   \n",
       "13006 -0.385980  0.288781 -0.865527 -0.599908 -0.416104  0.762756 -0.408396   \n",
       "13007 -0.545190  0.670593 -0.865527 -0.840086 -0.695951 -0.642899 -0.966373   \n",
       "13008 -0.424699  0.357239 -0.865527  0.172840 -0.329531 -0.298738  1.386836   \n",
       "13009  0.175589 -0.261098  0.804972 -0.584244 -0.445079 -0.274849 -0.335616   \n",
       "\n",
       "         midAre       EUI  \n",
       "0     -0.594408 -0.040789  \n",
       "1     -0.554770 -0.164736  \n",
       "2     -0.039909 -0.708290  \n",
       "3     -0.340032 -0.522169  \n",
       "4     -0.683073 -0.039784  \n",
       "...         ...       ...  \n",
       "13005  4.697704  1.867627  \n",
       "13006 -0.069555 -1.259873  \n",
       "13007 -0.759290 -1.214121  \n",
       "13008  0.143819  2.663911  \n",
       "13009 -0.223792  0.894065  \n",
       "\n",
       "[13010 rows x 81 columns]"
      ]
     },
     "execution_count": 10,
     "metadata": {},
     "output_type": "execute_result"
    }
   ],
   "source": [
    "pa"
   ]
  },
  {
   "cell_type": "code",
   "execution_count": 11,
   "metadata": {},
   "outputs": [],
   "source": [
    "pi = pa.drop(columns=[\"EUI\"])"
   ]
  },
  {
   "cell_type": "code",
   "execution_count": 28,
   "metadata": {},
   "outputs": [],
   "source": [
    "from sklearn.model_selection import train_test_split\n",
    "from sklearn.metrics import mean_squared_error\n",
    "from tensorflow.keras.layers import Dropout"
   ]
  },
  {
   "cell_type": "code",
   "execution_count": 94,
   "metadata": {},
   "outputs": [],
   "source": [
    "X_train, X_test, y_train, y_test = train_test_split(pi, eui, test_size=0.2, random_state=42)"
   ]
  },
  {
   "cell_type": "code",
   "execution_count": 157,
   "metadata": {},
   "outputs": [
    {
     "name": "stdout",
     "output_type": "stream",
     "text": [
      "Epoch 1/100\n",
      "12/12 [==============================] - 2s 47ms/step - loss: 0.0317 - val_loss: 0.0112\n",
      "Epoch 2/100\n",
      "12/12 [==============================] - 0s 34ms/step - loss: 0.0116 - val_loss: 0.0098\n",
      "Epoch 3/100\n",
      "12/12 [==============================] - 0s 35ms/step - loss: 0.0073 - val_loss: 0.0053\n",
      "Epoch 4/100\n",
      "12/12 [==============================] - 0s 35ms/step - loss: 0.0054 - val_loss: 0.0053\n",
      "Epoch 5/100\n",
      "12/12 [==============================] - 0s 35ms/step - loss: 0.0052 - val_loss: 0.0053\n",
      "Epoch 6/100\n",
      "12/12 [==============================] - 0s 37ms/step - loss: 0.0052 - val_loss: 0.0053\n",
      "Epoch 7/100\n",
      "12/12 [==============================] - 0s 35ms/step - loss: 0.0052 - val_loss: 0.0053\n",
      "Epoch 8/100\n",
      "12/12 [==============================] - 0s 35ms/step - loss: 0.0052 - val_loss: 0.0053\n",
      "Epoch 9/100\n",
      "12/12 [==============================] - 0s 36ms/step - loss: 0.0052 - val_loss: 0.0053\n",
      "Epoch 10/100\n",
      "12/12 [==============================] - 0s 35ms/step - loss: 0.0052 - val_loss: 0.0053\n",
      "Epoch 11/100\n",
      "12/12 [==============================] - 0s 37ms/step - loss: 0.0052 - val_loss: 0.0053\n",
      "Epoch 12/100\n",
      "12/12 [==============================] - 0s 38ms/step - loss: 0.0052 - val_loss: 0.0053\n",
      "Epoch 13/100\n",
      "12/12 [==============================] - 0s 37ms/step - loss: 0.0052 - val_loss: 0.0053\n",
      "Epoch 14/100\n",
      "12/12 [==============================] - 0s 36ms/step - loss: 0.0052 - val_loss: 0.0053\n",
      "Epoch 15/100\n",
      "12/12 [==============================] - 0s 35ms/step - loss: 0.0052 - val_loss: 0.0053\n",
      "Epoch 16/100\n",
      "12/12 [==============================] - 0s 37ms/step - loss: 0.0052 - val_loss: 0.0053\n",
      "Epoch 17/100\n",
      "12/12 [==============================] - 0s 39ms/step - loss: 0.0052 - val_loss: 0.0053\n",
      "Epoch 18/100\n",
      " 5/12 [===========>..................] - ETA: 0s - loss: 0.0048"
     ]
    },
    {
     "ename": "KeyboardInterrupt",
     "evalue": "",
     "output_type": "error",
     "traceback": [
      "\u001b[1;31m---------------------------------------------------------------------------\u001b[0m",
      "\u001b[1;31mKeyboardInterrupt\u001b[0m                         Traceback (most recent call last)",
      "\u001b[1;32m<ipython-input-157-149fcc50a6ad>\u001b[0m in \u001b[0;36m<module>\u001b[1;34m\u001b[0m\n\u001b[0;32m     31\u001b[0m \u001b[1;33m\u001b[0m\u001b[0m\n\u001b[0;32m     32\u001b[0m \u001b[1;31m# Train the ANN on the training set\u001b[0m\u001b[1;33m\u001b[0m\u001b[1;33m\u001b[0m\u001b[1;33m\u001b[0m\u001b[0m\n\u001b[1;32m---> 33\u001b[1;33m \u001b[0mmodel\u001b[0m\u001b[1;33m.\u001b[0m\u001b[0mfit\u001b[0m\u001b[1;33m(\u001b[0m\u001b[0mX_train\u001b[0m\u001b[1;33m,\u001b[0m \u001b[0my_train\u001b[0m\u001b[1;33m,\u001b[0m \u001b[0mbatch_size\u001b[0m\u001b[1;33m=\u001b[0m\u001b[1;36m640\u001b[0m\u001b[1;33m,\u001b[0m \u001b[0mepochs\u001b[0m\u001b[1;33m=\u001b[0m\u001b[1;36m100\u001b[0m\u001b[1;33m,\u001b[0m \u001b[0mvalidation_split\u001b[0m\u001b[1;33m=\u001b[0m\u001b[1;36m0.3\u001b[0m\u001b[1;33m,\u001b[0m \u001b[0mcallbacks\u001b[0m\u001b[1;33m=\u001b[0m\u001b[1;33m[\u001b[0m\u001b[0mearly_stopping\u001b[0m\u001b[1;33m]\u001b[0m\u001b[1;33m)\u001b[0m\u001b[1;33m\u001b[0m\u001b[1;33m\u001b[0m\u001b[0m\n\u001b[0m\u001b[0;32m     34\u001b[0m \u001b[1;33m\u001b[0m\u001b[0m\n\u001b[0;32m     35\u001b[0m \u001b[1;31m# Predicting the Test set results\u001b[0m\u001b[1;33m\u001b[0m\u001b[1;33m\u001b[0m\u001b[1;33m\u001b[0m\u001b[0m\n",
      "\u001b[1;32m~\\anaconda3\\lib\\site-packages\\keras\\src\\utils\\traceback_utils.py\u001b[0m in \u001b[0;36merror_handler\u001b[1;34m(*args, **kwargs)\u001b[0m\n\u001b[0;32m     63\u001b[0m         \u001b[0mfiltered_tb\u001b[0m \u001b[1;33m=\u001b[0m \u001b[1;32mNone\u001b[0m\u001b[1;33m\u001b[0m\u001b[1;33m\u001b[0m\u001b[0m\n\u001b[0;32m     64\u001b[0m         \u001b[1;32mtry\u001b[0m\u001b[1;33m:\u001b[0m\u001b[1;33m\u001b[0m\u001b[1;33m\u001b[0m\u001b[0m\n\u001b[1;32m---> 65\u001b[1;33m             \u001b[1;32mreturn\u001b[0m \u001b[0mfn\u001b[0m\u001b[1;33m(\u001b[0m\u001b[1;33m*\u001b[0m\u001b[0margs\u001b[0m\u001b[1;33m,\u001b[0m \u001b[1;33m**\u001b[0m\u001b[0mkwargs\u001b[0m\u001b[1;33m)\u001b[0m\u001b[1;33m\u001b[0m\u001b[1;33m\u001b[0m\u001b[0m\n\u001b[0m\u001b[0;32m     66\u001b[0m         \u001b[1;32mexcept\u001b[0m \u001b[0mException\u001b[0m \u001b[1;32mas\u001b[0m \u001b[0me\u001b[0m\u001b[1;33m:\u001b[0m\u001b[1;33m\u001b[0m\u001b[1;33m\u001b[0m\u001b[0m\n\u001b[0;32m     67\u001b[0m             \u001b[0mfiltered_tb\u001b[0m \u001b[1;33m=\u001b[0m \u001b[0m_process_traceback_frames\u001b[0m\u001b[1;33m(\u001b[0m\u001b[0me\u001b[0m\u001b[1;33m.\u001b[0m\u001b[0m__traceback__\u001b[0m\u001b[1;33m)\u001b[0m\u001b[1;33m\u001b[0m\u001b[1;33m\u001b[0m\u001b[0m\n",
      "\u001b[1;32m~\\anaconda3\\lib\\site-packages\\keras\\src\\engine\\training.py\u001b[0m in \u001b[0;36mfit\u001b[1;34m(self, x, y, batch_size, epochs, verbose, callbacks, validation_split, validation_data, shuffle, class_weight, sample_weight, initial_epoch, steps_per_epoch, validation_steps, validation_batch_size, validation_freq, max_queue_size, workers, use_multiprocessing)\u001b[0m\n\u001b[0;32m   1740\u001b[0m                         ):\n\u001b[0;32m   1741\u001b[0m                             \u001b[0mcallbacks\u001b[0m\u001b[1;33m.\u001b[0m\u001b[0mon_train_batch_begin\u001b[0m\u001b[1;33m(\u001b[0m\u001b[0mstep\u001b[0m\u001b[1;33m)\u001b[0m\u001b[1;33m\u001b[0m\u001b[1;33m\u001b[0m\u001b[0m\n\u001b[1;32m-> 1742\u001b[1;33m                             \u001b[0mtmp_logs\u001b[0m \u001b[1;33m=\u001b[0m \u001b[0mself\u001b[0m\u001b[1;33m.\u001b[0m\u001b[0mtrain_function\u001b[0m\u001b[1;33m(\u001b[0m\u001b[0miterator\u001b[0m\u001b[1;33m)\u001b[0m\u001b[1;33m\u001b[0m\u001b[1;33m\u001b[0m\u001b[0m\n\u001b[0m\u001b[0;32m   1743\u001b[0m                             \u001b[1;32mif\u001b[0m \u001b[0mdata_handler\u001b[0m\u001b[1;33m.\u001b[0m\u001b[0mshould_sync\u001b[0m\u001b[1;33m:\u001b[0m\u001b[1;33m\u001b[0m\u001b[1;33m\u001b[0m\u001b[0m\n\u001b[0;32m   1744\u001b[0m                                 \u001b[0mcontext\u001b[0m\u001b[1;33m.\u001b[0m\u001b[0masync_wait\u001b[0m\u001b[1;33m(\u001b[0m\u001b[1;33m)\u001b[0m\u001b[1;33m\u001b[0m\u001b[1;33m\u001b[0m\u001b[0m\n",
      "\u001b[1;32m~\\anaconda3\\lib\\site-packages\\tensorflow\\python\\util\\traceback_utils.py\u001b[0m in \u001b[0;36merror_handler\u001b[1;34m(*args, **kwargs)\u001b[0m\n\u001b[0;32m    148\u001b[0m     \u001b[0mfiltered_tb\u001b[0m \u001b[1;33m=\u001b[0m \u001b[1;32mNone\u001b[0m\u001b[1;33m\u001b[0m\u001b[1;33m\u001b[0m\u001b[0m\n\u001b[0;32m    149\u001b[0m     \u001b[1;32mtry\u001b[0m\u001b[1;33m:\u001b[0m\u001b[1;33m\u001b[0m\u001b[1;33m\u001b[0m\u001b[0m\n\u001b[1;32m--> 150\u001b[1;33m       \u001b[1;32mreturn\u001b[0m \u001b[0mfn\u001b[0m\u001b[1;33m(\u001b[0m\u001b[1;33m*\u001b[0m\u001b[0margs\u001b[0m\u001b[1;33m,\u001b[0m \u001b[1;33m**\u001b[0m\u001b[0mkwargs\u001b[0m\u001b[1;33m)\u001b[0m\u001b[1;33m\u001b[0m\u001b[1;33m\u001b[0m\u001b[0m\n\u001b[0m\u001b[0;32m    151\u001b[0m     \u001b[1;32mexcept\u001b[0m \u001b[0mException\u001b[0m \u001b[1;32mas\u001b[0m \u001b[0me\u001b[0m\u001b[1;33m:\u001b[0m\u001b[1;33m\u001b[0m\u001b[1;33m\u001b[0m\u001b[0m\n\u001b[0;32m    152\u001b[0m       \u001b[0mfiltered_tb\u001b[0m \u001b[1;33m=\u001b[0m \u001b[0m_process_traceback_frames\u001b[0m\u001b[1;33m(\u001b[0m\u001b[0me\u001b[0m\u001b[1;33m.\u001b[0m\u001b[0m__traceback__\u001b[0m\u001b[1;33m)\u001b[0m\u001b[1;33m\u001b[0m\u001b[1;33m\u001b[0m\u001b[0m\n",
      "\u001b[1;32m~\\anaconda3\\lib\\site-packages\\tensorflow\\python\\eager\\polymorphic_function\\polymorphic_function.py\u001b[0m in \u001b[0;36m__call__\u001b[1;34m(self, *args, **kwds)\u001b[0m\n\u001b[0;32m    823\u001b[0m \u001b[1;33m\u001b[0m\u001b[0m\n\u001b[0;32m    824\u001b[0m       \u001b[1;32mwith\u001b[0m \u001b[0mOptionalXlaContext\u001b[0m\u001b[1;33m(\u001b[0m\u001b[0mself\u001b[0m\u001b[1;33m.\u001b[0m\u001b[0m_jit_compile\u001b[0m\u001b[1;33m)\u001b[0m\u001b[1;33m:\u001b[0m\u001b[1;33m\u001b[0m\u001b[1;33m\u001b[0m\u001b[0m\n\u001b[1;32m--> 825\u001b[1;33m         \u001b[0mresult\u001b[0m \u001b[1;33m=\u001b[0m \u001b[0mself\u001b[0m\u001b[1;33m.\u001b[0m\u001b[0m_call\u001b[0m\u001b[1;33m(\u001b[0m\u001b[1;33m*\u001b[0m\u001b[0margs\u001b[0m\u001b[1;33m,\u001b[0m \u001b[1;33m**\u001b[0m\u001b[0mkwds\u001b[0m\u001b[1;33m)\u001b[0m\u001b[1;33m\u001b[0m\u001b[1;33m\u001b[0m\u001b[0m\n\u001b[0m\u001b[0;32m    826\u001b[0m \u001b[1;33m\u001b[0m\u001b[0m\n\u001b[0;32m    827\u001b[0m       \u001b[0mnew_tracing_count\u001b[0m \u001b[1;33m=\u001b[0m \u001b[0mself\u001b[0m\u001b[1;33m.\u001b[0m\u001b[0mexperimental_get_tracing_count\u001b[0m\u001b[1;33m(\u001b[0m\u001b[1;33m)\u001b[0m\u001b[1;33m\u001b[0m\u001b[1;33m\u001b[0m\u001b[0m\n",
      "\u001b[1;32m~\\anaconda3\\lib\\site-packages\\tensorflow\\python\\eager\\polymorphic_function\\polymorphic_function.py\u001b[0m in \u001b[0;36m_call\u001b[1;34m(self, *args, **kwds)\u001b[0m\n\u001b[0;32m    855\u001b[0m       \u001b[1;31m# In this case we have created variables on the first call, so we run the\u001b[0m\u001b[1;33m\u001b[0m\u001b[1;33m\u001b[0m\u001b[1;33m\u001b[0m\u001b[0m\n\u001b[0;32m    856\u001b[0m       \u001b[1;31m# defunned version which is guaranteed to never create variables.\u001b[0m\u001b[1;33m\u001b[0m\u001b[1;33m\u001b[0m\u001b[1;33m\u001b[0m\u001b[0m\n\u001b[1;32m--> 857\u001b[1;33m       \u001b[1;32mreturn\u001b[0m \u001b[0mself\u001b[0m\u001b[1;33m.\u001b[0m\u001b[0m_no_variable_creation_fn\u001b[0m\u001b[1;33m(\u001b[0m\u001b[1;33m*\u001b[0m\u001b[0margs\u001b[0m\u001b[1;33m,\u001b[0m \u001b[1;33m**\u001b[0m\u001b[0mkwds\u001b[0m\u001b[1;33m)\u001b[0m  \u001b[1;31m# pylint: disable=not-callable\u001b[0m\u001b[1;33m\u001b[0m\u001b[1;33m\u001b[0m\u001b[0m\n\u001b[0m\u001b[0;32m    858\u001b[0m     \u001b[1;32melif\u001b[0m \u001b[0mself\u001b[0m\u001b[1;33m.\u001b[0m\u001b[0m_variable_creation_fn\u001b[0m \u001b[1;32mis\u001b[0m \u001b[1;32mnot\u001b[0m \u001b[1;32mNone\u001b[0m\u001b[1;33m:\u001b[0m\u001b[1;33m\u001b[0m\u001b[1;33m\u001b[0m\u001b[0m\n\u001b[0;32m    859\u001b[0m       \u001b[1;31m# Release the lock early so that multiple threads can perform the call\u001b[0m\u001b[1;33m\u001b[0m\u001b[1;33m\u001b[0m\u001b[1;33m\u001b[0m\u001b[0m\n",
      "\u001b[1;32m~\\anaconda3\\lib\\site-packages\\tensorflow\\python\\eager\\polymorphic_function\\tracing_compiler.py\u001b[0m in \u001b[0;36m__call__\u001b[1;34m(self, *args, **kwargs)\u001b[0m\n\u001b[0;32m    146\u001b[0m       (concrete_function,\n\u001b[0;32m    147\u001b[0m        filtered_flat_args) = self._maybe_define_function(args, kwargs)\n\u001b[1;32m--> 148\u001b[1;33m     return concrete_function._call_flat(\n\u001b[0m\u001b[0;32m    149\u001b[0m         filtered_flat_args, captured_inputs=concrete_function.captured_inputs)  # pylint: disable=protected-access\n\u001b[0;32m    150\u001b[0m \u001b[1;33m\u001b[0m\u001b[0m\n",
      "\u001b[1;32m~\\anaconda3\\lib\\site-packages\\tensorflow\\python\\eager\\polymorphic_function\\monomorphic_function.py\u001b[0m in \u001b[0;36m_call_flat\u001b[1;34m(self, args, captured_inputs)\u001b[0m\n\u001b[0;32m   1347\u001b[0m         and executing_eagerly):\n\u001b[0;32m   1348\u001b[0m       \u001b[1;31m# No tape is watching; skip to running the function.\u001b[0m\u001b[1;33m\u001b[0m\u001b[1;33m\u001b[0m\u001b[1;33m\u001b[0m\u001b[0m\n\u001b[1;32m-> 1349\u001b[1;33m       \u001b[1;32mreturn\u001b[0m \u001b[0mself\u001b[0m\u001b[1;33m.\u001b[0m\u001b[0m_build_call_outputs\u001b[0m\u001b[1;33m(\u001b[0m\u001b[0mself\u001b[0m\u001b[1;33m.\u001b[0m\u001b[0m_inference_function\u001b[0m\u001b[1;33m(\u001b[0m\u001b[1;33m*\u001b[0m\u001b[0margs\u001b[0m\u001b[1;33m)\u001b[0m\u001b[1;33m)\u001b[0m\u001b[1;33m\u001b[0m\u001b[1;33m\u001b[0m\u001b[0m\n\u001b[0m\u001b[0;32m   1350\u001b[0m     forward_backward = self._select_forward_and_backward_functions(\n\u001b[0;32m   1351\u001b[0m         \u001b[0margs\u001b[0m\u001b[1;33m,\u001b[0m\u001b[1;33m\u001b[0m\u001b[1;33m\u001b[0m\u001b[0m\n",
      "\u001b[1;32m~\\anaconda3\\lib\\site-packages\\tensorflow\\python\\eager\\polymorphic_function\\atomic_function.py\u001b[0m in \u001b[0;36m__call__\u001b[1;34m(self, *args)\u001b[0m\n\u001b[0;32m    194\u001b[0m         \u001b[1;32mwith\u001b[0m \u001b[0mrecord\u001b[0m\u001b[1;33m.\u001b[0m\u001b[0mstop_recording\u001b[0m\u001b[1;33m(\u001b[0m\u001b[1;33m)\u001b[0m\u001b[1;33m:\u001b[0m\u001b[1;33m\u001b[0m\u001b[1;33m\u001b[0m\u001b[0m\n\u001b[0;32m    195\u001b[0m           \u001b[1;32mif\u001b[0m \u001b[0mself\u001b[0m\u001b[1;33m.\u001b[0m\u001b[0m_bound_context\u001b[0m\u001b[1;33m.\u001b[0m\u001b[0mexecuting_eagerly\u001b[0m\u001b[1;33m(\u001b[0m\u001b[1;33m)\u001b[0m\u001b[1;33m:\u001b[0m\u001b[1;33m\u001b[0m\u001b[1;33m\u001b[0m\u001b[0m\n\u001b[1;32m--> 196\u001b[1;33m             outputs = self._bound_context.call_function(\n\u001b[0m\u001b[0;32m    197\u001b[0m                 \u001b[0mself\u001b[0m\u001b[1;33m.\u001b[0m\u001b[0mname\u001b[0m\u001b[1;33m,\u001b[0m\u001b[1;33m\u001b[0m\u001b[1;33m\u001b[0m\u001b[0m\n\u001b[0;32m    198\u001b[0m                 \u001b[0mlist\u001b[0m\u001b[1;33m(\u001b[0m\u001b[0margs\u001b[0m\u001b[1;33m)\u001b[0m\u001b[1;33m,\u001b[0m\u001b[1;33m\u001b[0m\u001b[1;33m\u001b[0m\u001b[0m\n",
      "\u001b[1;32m~\\anaconda3\\lib\\site-packages\\tensorflow\\python\\eager\\context.py\u001b[0m in \u001b[0;36mcall_function\u001b[1;34m(self, name, tensor_inputs, num_outputs)\u001b[0m\n\u001b[0;32m   1455\u001b[0m     \u001b[0mcancellation_context\u001b[0m \u001b[1;33m=\u001b[0m \u001b[0mcancellation\u001b[0m\u001b[1;33m.\u001b[0m\u001b[0mcontext\u001b[0m\u001b[1;33m(\u001b[0m\u001b[1;33m)\u001b[0m\u001b[1;33m\u001b[0m\u001b[1;33m\u001b[0m\u001b[0m\n\u001b[0;32m   1456\u001b[0m     \u001b[1;32mif\u001b[0m \u001b[0mcancellation_context\u001b[0m \u001b[1;32mis\u001b[0m \u001b[1;32mNone\u001b[0m\u001b[1;33m:\u001b[0m\u001b[1;33m\u001b[0m\u001b[1;33m\u001b[0m\u001b[0m\n\u001b[1;32m-> 1457\u001b[1;33m       outputs = execute.execute(\n\u001b[0m\u001b[0;32m   1458\u001b[0m           \u001b[0mname\u001b[0m\u001b[1;33m.\u001b[0m\u001b[0mdecode\u001b[0m\u001b[1;33m(\u001b[0m\u001b[1;34m\"utf-8\"\u001b[0m\u001b[1;33m)\u001b[0m\u001b[1;33m,\u001b[0m\u001b[1;33m\u001b[0m\u001b[1;33m\u001b[0m\u001b[0m\n\u001b[0;32m   1459\u001b[0m           \u001b[0mnum_outputs\u001b[0m\u001b[1;33m=\u001b[0m\u001b[0mnum_outputs\u001b[0m\u001b[1;33m,\u001b[0m\u001b[1;33m\u001b[0m\u001b[1;33m\u001b[0m\u001b[0m\n",
      "\u001b[1;32m~\\anaconda3\\lib\\site-packages\\tensorflow\\python\\eager\\execute.py\u001b[0m in \u001b[0;36mquick_execute\u001b[1;34m(op_name, num_outputs, inputs, attrs, ctx, name)\u001b[0m\n\u001b[0;32m     51\u001b[0m   \u001b[1;32mtry\u001b[0m\u001b[1;33m:\u001b[0m\u001b[1;33m\u001b[0m\u001b[1;33m\u001b[0m\u001b[0m\n\u001b[0;32m     52\u001b[0m     \u001b[0mctx\u001b[0m\u001b[1;33m.\u001b[0m\u001b[0mensure_initialized\u001b[0m\u001b[1;33m(\u001b[0m\u001b[1;33m)\u001b[0m\u001b[1;33m\u001b[0m\u001b[1;33m\u001b[0m\u001b[0m\n\u001b[1;32m---> 53\u001b[1;33m     tensors = pywrap_tfe.TFE_Py_Execute(ctx._handle, device_name, op_name,\n\u001b[0m\u001b[0;32m     54\u001b[0m                                         inputs, attrs, num_outputs)\n\u001b[0;32m     55\u001b[0m   \u001b[1;32mexcept\u001b[0m \u001b[0mcore\u001b[0m\u001b[1;33m.\u001b[0m\u001b[0m_NotOkStatusException\u001b[0m \u001b[1;32mas\u001b[0m \u001b[0me\u001b[0m\u001b[1;33m:\u001b[0m\u001b[1;33m\u001b[0m\u001b[1;33m\u001b[0m\u001b[0m\n",
      "\u001b[1;31mKeyboardInterrupt\u001b[0m: "
     ]
    }
   ],
   "source": [
    "from tensorflow.keras.layers import Dense, Dropout\n",
    "from tensorflow.keras.models import Sequential\n",
    "from tensorflow.keras.callbacks import EarlyStopping\n",
    "from tensorflow.keras.regularizers import l2\n",
    "from tensorflow.keras.optimizers import Adam\n",
    "from tensorflow.keras.losses import Huber\n",
    "# Initialize the ANN\n",
    "model = Sequential([\n",
    "    Dense(200, activation='relu',input_shape=(X_train.shape[1],)),\n",
    "    Dropout(0.4),\n",
    "    Dense(200, activation='sigmoid'), \n",
    "    Dense(120, activation='relu'),\n",
    "    \n",
    "    Dense(120, activation='tanh'),\n",
    "        Dense(120, activation='relu'),\n",
    "    \n",
    "    \n",
    "    Dense(80, activation='relu'),\n",
    "    Dense(1, activation='sigmoid')  # Output layer for regression\n",
    "])\n",
    "\n",
    "# Compile the ANN\n",
    "model.compile(optimizer=Adam(learning_rate=0.001), loss='mean_squared_error')\n",
    "early_stopping = EarlyStopping(monitor='val_loss', patience=50)\n",
    "\n",
    "# Train the ANN on the training set\n",
    "model.fit(X_train, y_train, batch_size=640, epochs=100, validation_split=0.3, callbacks=[early_stopping])\n",
    "\n",
    "# Predicting the Test set results\n",
    "y_pred = model.predict(X_test)\n",
    "\n",
    "# Evaluate the model\n",
    "from sklearn.metrics import mean_squared_error, r2_score\n",
    "\n",
    "mse = mean_squared_error(y_test, y_pred)\n",
    "r2 = r2_score(y_test, y_pred)\n",
    "\n",
    "print(f\"Mean Squared Error: {mse}\")\n",
    "print(f\"R-squared: {r2}\")"
   ]
  },
  {
   "cell_type": "code",
   "execution_count": 156,
   "metadata": {},
   "outputs": [
    {
     "data": {
      "text/plain": [
       "array([[0.11115744],\n",
       "       [0.16261119],\n",
       "       [0.13626875],\n",
       "       ...,\n",
       "       [0.14644201],\n",
       "       [0.12867156],\n",
       "       [0.14219475]], dtype=float32)"
      ]
     },
     "execution_count": 156,
     "metadata": {},
     "output_type": "execute_result"
    }
   ],
   "source": [
    "y_pred"
   ]
  },
  {
   "cell_type": "code",
   "execution_count": 142,
   "metadata": {},
   "outputs": [
    {
     "data": {
      "text/plain": [
       "array([0.07904688, 0.13270609, 0.13697619, ..., 0.0935161 , 0.24662705,\n",
       "       0.0443173 ])"
      ]
     },
     "execution_count": 142,
     "metadata": {},
     "output_type": "execute_result"
    }
   ],
   "source": [
    "y_test"
   ]
  },
  {
   "cell_type": "code",
   "execution_count": 148,
   "metadata": {},
   "outputs": [
    {
     "data": {
      "text/plain": [
       "<matplotlib.collections.PathCollection at 0x183dc78a820>"
      ]
     },
     "execution_count": 148,
     "metadata": {},
     "output_type": "execute_result"
    },
    {
     "data": {
      "image/png": "[encoded data removed]",
      "text/plain": [
       "<Figure size 432x288 with 1 Axes>"
      ]
     },
     "metadata": {
      "needs_background": "light"
     },
     "output_type": "display_data"
    }
   ],
   "source": [
    "plt.scatter(y_pred, y_test)"
   ]
  },
  {
   "cell_type": "code",
   "execution_count": 154,
   "metadata": {},
   "outputs": [
    {
     "name": "stdout",
     "output_type": "stream",
     "text": [
      "326/326 [==============================] - 1s 2ms/step\n"
     ]
    },
    {
     "data": {
      "text/plain": [
       "<matplotlib.collections.PathCollection at 0x183cfa089d0>"
      ]
     },
     "execution_count": 154,
     "metadata": {},
     "output_type": "execute_result"
    },
    {
     "data": {
      "image/png": "[encoded data removed]",
      "text/plain": [
       "<Figure size 432x288 with 1 Axes>"
      ]
     },
     "metadata": {
      "needs_background": "light"
     },
     "output_type": "display_data"
    }
   ],
   "source": [
    "plt.scatter(y_train, model.predict(X_train))"
   ]
  },
  {
   "cell_type": "code",
   "execution_count": null,
   "metadata": {},
   "outputs": [],
   "source": []
  }
 ],
 "metadata": {
  "kernelspec": {
   "display_name": "Python 3",
   "language": "python",
   "name": "python3"
  },
  "language_info": {
   "codemirror_mode": {
    "name": "ipython",
    "version": 3
   },
   "file_extension": ".py",
   "mimetype": "text/x-python",
   "name": "python",
   "nbconvert_exporter": "python",
   "pygments_lexer": "ipython3",
   "version": "3.8.5"
  }
 },
 "nbformat": 4,
 "nbformat_minor": 4
}
